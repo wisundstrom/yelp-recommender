{
 "cells": [
  {
   "cell_type": "code",
   "execution_count": 1,
   "metadata": {
    "collapsed": true,
    "jupyter": {
     "outputs_hidden": true
    }
   },
   "outputs": [
    {
     "name": "stdout",
     "output_type": "stream",
     "text": [
      "Collecting jupyter_console\n",
      "  Downloading https://files.pythonhosted.org/packages/cb/ee/6374ae8c21b7d0847f9c3722dcdfac986b8e54fa9ad9ea66e1eb6320d2b8/jupyter_console-6.0.0-py2.py3-none-any.whl\n",
      "Requirement not upgraded as not directly required: ipykernel in /home/ec2-user/anaconda3/envs/python3/lib/python3.6/site-packages (from jupyter_console) (4.8.2)\n",
      "Collecting prompt-toolkit<2.1.0,>=2.0.0 (from jupyter_console)\n",
      "\u001b[?25l  Downloading https://files.pythonhosted.org/packages/87/61/2dfea88583d5454e3a64f9308a686071d58d59a55db638268a6413e1eb6d/prompt_toolkit-2.0.10-py3-none-any.whl (340kB)\n",
      "\u001b[K    100% |████████████████████████████████| 348kB 29.8MB/s ta 0:00:01\n",
      "\u001b[?25hRequirement not upgraded as not directly required: ipython in /home/ec2-user/anaconda3/envs/python3/lib/python3.6/site-packages (from jupyter_console) (6.4.0)\n",
      "Requirement not upgraded as not directly required: jupyter-client in /home/ec2-user/anaconda3/envs/python3/lib/python3.6/site-packages (from jupyter_console) (5.2.3)\n",
      "Requirement not upgraded as not directly required: pygments in /home/ec2-user/anaconda3/envs/python3/lib/python3.6/site-packages (from jupyter_console) (2.2.0)\n",
      "Requirement not upgraded as not directly required: traitlets>=4.1.0 in /home/ec2-user/anaconda3/envs/python3/lib/python3.6/site-packages (from ipykernel->jupyter_console) (4.3.2)\n",
      "Requirement not upgraded as not directly required: tornado>=4.0 in /home/ec2-user/anaconda3/envs/python3/lib/python3.6/site-packages (from ipykernel->jupyter_console) (5.0.2)\n",
      "Requirement not upgraded as not directly required: six>=1.9.0 in /home/ec2-user/anaconda3/envs/python3/lib/python3.6/site-packages (from prompt-toolkit<2.1.0,>=2.0.0->jupyter_console) (1.11.0)\n",
      "Requirement not upgraded as not directly required: wcwidth in /home/ec2-user/anaconda3/envs/python3/lib/python3.6/site-packages (from prompt-toolkit<2.1.0,>=2.0.0->jupyter_console) (0.1.7)\n",
      "Requirement not upgraded as not directly required: backcall in /home/ec2-user/anaconda3/envs/python3/lib/python3.6/site-packages (from ipython->jupyter_console) (0.1.0)\n",
      "Requirement not upgraded as not directly required: simplegeneric>0.8 in /home/ec2-user/anaconda3/envs/python3/lib/python3.6/site-packages (from ipython->jupyter_console) (0.8.1)\n",
      "Requirement not upgraded as not directly required: decorator in /home/ec2-user/anaconda3/envs/python3/lib/python3.6/site-packages (from ipython->jupyter_console) (4.3.0)\n",
      "Requirement not upgraded as not directly required: jedi>=0.10 in /home/ec2-user/anaconda3/envs/python3/lib/python3.6/site-packages (from ipython->jupyter_console) (0.12.0)\n",
      "Requirement not upgraded as not directly required: pickleshare in /home/ec2-user/anaconda3/envs/python3/lib/python3.6/site-packages (from ipython->jupyter_console) (0.7.4)\n",
      "Requirement not upgraded as not directly required: pexpect; sys_platform != \"win32\" in /home/ec2-user/anaconda3/envs/python3/lib/python3.6/site-packages (from ipython->jupyter_console) (4.5.0)\n",
      "Requirement not upgraded as not directly required: setuptools>=18.5 in /home/ec2-user/anaconda3/envs/python3/lib/python3.6/site-packages (from ipython->jupyter_console) (39.1.0)\n",
      "Requirement not upgraded as not directly required: jupyter_core in /home/ec2-user/anaconda3/envs/python3/lib/python3.6/site-packages (from jupyter-client->jupyter_console) (4.4.0)\n",
      "Requirement not upgraded as not directly required: pyzmq>=13 in /home/ec2-user/anaconda3/envs/python3/lib/python3.6/site-packages (from jupyter-client->jupyter_console) (17.0.0)\n",
      "Requirement not upgraded as not directly required: python-dateutil>=2.1 in /home/ec2-user/anaconda3/envs/python3/lib/python3.6/site-packages (from jupyter-client->jupyter_console) (2.7.3)\n",
      "Requirement not upgraded as not directly required: ipython_genutils in /home/ec2-user/anaconda3/envs/python3/lib/python3.6/site-packages (from traitlets>=4.1.0->ipykernel->jupyter_console) (0.2.0)\n",
      "Requirement not upgraded as not directly required: parso>=0.2.0 in /home/ec2-user/anaconda3/envs/python3/lib/python3.6/site-packages (from jedi>=0.10->ipython->jupyter_console) (0.2.0)\n",
      "Requirement not upgraded as not directly required: ptyprocess>=0.5 in /home/ec2-user/anaconda3/envs/python3/lib/python3.6/site-packages (from pexpect; sys_platform != \"win32\"->ipython->jupyter_console) (0.5.2)\n",
      "\u001b[31mipython 6.4.0 has requirement prompt-toolkit<2.0.0,>=1.0.15, but you'll have prompt-toolkit 2.0.10 which is incompatible.\u001b[0m\n",
      "Installing collected packages: prompt-toolkit, jupyter-console\n",
      "  Found existing installation: prompt-toolkit 1.0.15\n",
      "    Uninstalling prompt-toolkit-1.0.15:\n",
      "      Successfully uninstalled prompt-toolkit-1.0.15\n",
      "  Found existing installation: jupyter-console 5.2.0\n",
      "    Uninstalling jupyter-console-5.2.0:\n",
      "      Successfully uninstalled jupyter-console-5.2.0\n",
      "Successfully installed jupyter-console-6.0.0 prompt-toolkit-2.0.10\n",
      "\u001b[33mYou are using pip version 10.0.1, however version 19.2.3 is available.\n",
      "You should consider upgrading via the 'pip install --upgrade pip' command.\u001b[0m\n"
     ]
    }
   ],
   "source": []
  },
  {
   "cell_type": "code",
   "execution_count": 2,
   "metadata": {},
   "outputs": [
    {
     "name": "stdout",
     "output_type": "stream",
     "text": [
      "Collecting neo4j\n",
      "  Downloading https://files.pythonhosted.org/packages/ed/a9/248314080b0f875facf898fb270e99024a3d47edf4cdb01c87ff9c447151/neo4j-1.7.5.tar.gz\n",
      "Collecting neobolt~=1.7.15 (from neo4j)\n",
      "\u001b[?25l  Downloading https://files.pythonhosted.org/packages/9f/63/bb8b2ba18b4929c8bd17299d499530d6779635439e33bcc95043dc597223/neobolt-1.7.15.tar.gz (183kB)\n",
      "\u001b[K    100% |████████████████████████████████| 184kB 32.7MB/s ta 0:00:01\n",
      "\u001b[?25hCollecting neotime~=1.7.1 (from neo4j)\n",
      "  Downloading https://files.pythonhosted.org/packages/0b/7e/ca368a8d8e288be1352d4e2df35da1e01f8aaffbf526695df71630bcb8a6/neotime-1.7.4.tar.gz\n",
      "Requirement already satisfied: pytz in /home/ec2-user/anaconda3/envs/python3/lib/python3.6/site-packages (from neotime~=1.7.1->neo4j) (2018.4)\n",
      "Requirement already satisfied: six in /home/ec2-user/anaconda3/envs/python3/lib/python3.6/site-packages (from neotime~=1.7.1->neo4j) (1.11.0)\n",
      "Building wheels for collected packages: neo4j, neobolt, neotime\n",
      "  Running setup.py bdist_wheel for neo4j ... \u001b[?25ldone\n",
      "\u001b[?25h  Stored in directory: /home/ec2-user/.cache/pip/wheels/c0/dc/2e/6a26c3a5c63bb49a81092caa5ee48895971c0f229ee7900e7d\n",
      "  Running setup.py bdist_wheel for neobolt ... \u001b[?25ldone\n",
      "\u001b[?25h  Stored in directory: /home/ec2-user/.cache/pip/wheels/42/54/00/270de525f8f966d864bd3a0224d38dca2573b53c1a54267720\n",
      "  Running setup.py bdist_wheel for neotime ... \u001b[?25ldone\n",
      "\u001b[?25h  Stored in directory: /home/ec2-user/.cache/pip/wheels/d4/b4/c4/ab867cd0ac9e667f8cd269f9364fd1cb8ee75fe50f5ce97c79\n",
      "Successfully built neo4j neobolt neotime\n",
      "Installing collected packages: neobolt, neotime, neo4j\n",
      "Successfully installed neo4j-1.7.5 neobolt-1.7.15 neotime-1.7.4\n",
      "\u001b[33mYou are using pip version 10.0.1, however version 19.2.3 is available.\n",
      "You should consider upgrading via the 'pip install --upgrade pip' command.\u001b[0m\n"
     ]
    }
   ],
   "source": [
    "! pip install neo4j\n",
    "from neo4j import GraphDatabase\n",
    "import pandas as pd\n",
    "import matplotlib.pyplot as plt\n",
    "import networkx as nx\n",
    "import seaborn as sns\n",
    "import numpy as np\n"
   ]
  },
  {
   "cell_type": "code",
   "execution_count": 5,
   "metadata": {},
   "outputs": [],
   "source": [
    "uri = \"bolt://3.220.233.169:7687\"\n",
    "driver = GraphDatabase.driver(uri, auth=(\"neo4j\", \"i-0e23d19f0d8795714\"))"
   ]
  },
  {
   "cell_type": "code",
   "execution_count": 6,
   "metadata": {},
   "outputs": [],
   "source": [
    "with driver.session() as session:\n",
    "    result = session.run(\"MATCH (a:User) RETURN a.id LIMIT 10\")\n",
    "    "
   ]
  },
  {
   "cell_type": "code",
   "execution_count": 8,
   "metadata": {},
   "outputs": [
    {
     "data": {
      "text/plain": [
       "[{'a.id': 'hG7b0MtEbXx5QzbzE6C_VA'},\n",
       " {'a.id': 'yXQM5uF2jS6es16SJzNHfg'},\n",
       " {'a.id': 'n6-Gk65cPZL6Uz8qRm3NYw'},\n",
       " {'a.id': 'dacAIZ6fTM6mqwW5uxkskg'},\n",
       " {'a.id': 'ssoyf2_x0EQMed6fgHeMyQ'},\n",
       " {'a.id': 'w31MKYsNFMrjhWxxAb5wIw'},\n",
       " {'a.id': 'jlu4CztcSxrKx56ba1a5AQ'},\n",
       " {'a.id': 'd6xvYpyzcfbF_AZ8vMB7QA'},\n",
       " {'a.id': 'sG_h0dIzTKWa3Q6fmb4u-g'},\n",
       " {'a.id': 'nMeCE5-xsdleyxYuNZ_7rA'}]"
      ]
     },
     "execution_count": 8,
     "metadata": {},
     "output_type": "execute_result"
    }
   ],
   "source": [
    "result.data()"
   ]
  },
  {
   "cell_type": "code",
   "execution_count": 29,
   "metadata": {},
   "outputs": [
    {
     "data": {
      "text/plain": [
       "[{'nodes': [(_-22:Category {constraints: [], indexes: ['name'], name: 'Category'}),\n",
       "   (_-23:User {constraints: ['CONSTRAINT ON ( user:User ) ASSERT user.id IS UNIQUE'], indexes: [], name: 'User'}),\n",
       "   (_-24:Review {constraints: ['CONSTRAINT ON ( review:Review ) ASSERT review.id IS UNIQUE'], indexes: [], name: 'Review'}),\n",
       "   (_-25:Reputation {constraints: [], indexes: [], name: 'Reputation'}),\n",
       "   (_-21:Business {constraints: ['CONSTRAINT ON ( business:Business ) ASSERT business.id IS UNIQUE'], indexes: [], name: 'Business'})],\n",
       "  'relationships': [(Review)-[:REVIEWS {}]->(Business),\n",
       "   (User)-[:WROTE {}]->(Review),\n",
       "   (User)-[:FRIEND {}]->(User),\n",
       "   (User)-[:COOL_LEVEL {}]->(Reputation),\n",
       "   (User)-[:FUNNY_LEVEL {}]->(Reputation),\n",
       "   (Business)-[:IN_CATEGORY {}]->(Category)]}]"
      ]
     },
     "execution_count": 29,
     "metadata": {},
     "output_type": "execute_result"
    }
   ],
   "source": [
    "graph.run(\"CALL db.schema()\").data()\n"
   ]
  },
  {
   "cell_type": "markdown",
   "metadata": {},
   "source": [
    "now trying to automate atleast some of the process for the other attributes\n",
    "\n",
    "| qunatile | ident | u.cool | u.funny | u.useful |\n",
    "| --- | --- | --- | --- | --- |\n",
    "| 0.20 | 1072521.40\t| 0.0 | 0.0 | 0.0 |\n",
    "| 0.35 | 1968091.95 | 0.0\t |0.0\t|1.0 |\n",
    "| 0.50 |\t3063662.50\t| 0.0\t | 0.0\t| 3.0 | \n",
    "| 0.65 |\t4389233.05\t| 1.0\t | 1.0\t| 7.0 |\n",
    "| 0.80 |\t5984803.60\t| 5.0\t | 4.0\t| 19.0 |\n",
    "| 0.95 |\t7830374.15\t| 36.0\t| 33.0\t| 110.0 |\n"
   ]
  },
  {
   "cell_type": "code",
   "execution_count": null,
   "metadata": {},
   "outputs": [],
   "source": []
  },
  {
   "cell_type": "code",
   "execution_count": 24,
   "metadata": {},
   "outputs": [
    {
     "data": {
      "text/plain": [
       "<py2neo.database.Cursor at 0x7f1471c456a0>"
      ]
     },
     "execution_count": 24,
     "metadata": {},
     "output_type": "execute_result"
    }
   ],
   "source": [
    "#the 0 group needs be done seperately because of the way cypher handles nodes that do not have a funny value.\n",
    "# graph.run(\"\"\"\n",
    "# MATCH (n)\n",
    "# WHERE ID(n)= 6543\n",
    "# MATCH (u:User) WHERE NOT exists(u.funny)\n",
    "# CREATE (u)-[:FUNNY_LEVEL]->(n)\n",
    "# \"\"\")"
   ]
  },
  {
   "cell_type": "code",
   "execution_count": null,
   "metadata": {},
   "outputs": [],
   "source": [
    "#this is for testing the funny edge adding loop\n",
    "id_list=[(6543,0,1),(6668,1,2),(6552,2,33),(6561,33,999999)]\n",
    "dflist=[]\n",
    "for index in id_list:\n",
    "    tempdf=graph.run(f\"\\\n",
    "    MATCH (n)\\\n",
    "    WHERE ID(n)={index[0]}\\\n",
    "    MATCH (u:User) WHERE {index[1]}=<u.funny<{index[2]}\\\n",
    "    RETURN n.funny, u.name, u.funny LIMIT 6\").to_data_frame()\n",
    "    dflist.append(tempdf)"
   ]
  },
  {
   "cell_type": "code",
   "execution_count": 25,
   "metadata": {},
   "outputs": [],
   "source": [
    "#this is for adding the funny edges\n",
    "# id_list=[(6668,1,2),(6552,2,33),(6561,33,999999)]\n",
    "# dflist=[]\n",
    "\n",
    "\n",
    "\n",
    "# for index in id_list:\n",
    "#     tempdf=graph.run(f\"\\\n",
    "#     MATCH (n)\\\n",
    "#     WHERE ID(n)={index[0]}\\\n",
    "#     MATCH (u:User) WHERE {index[1]}<=u.funny<{index[2]}\\\n",
    "#     CREATE (u)-[:FUNNY_LEVEL]->(n)\").to_data_frame()\n",
    "#     dflist.append(tempdf)\n"
   ]
  },
  {
   "cell_type": "code",
   "execution_count": 34,
   "metadata": {},
   "outputs": [
    {
     "data": {
      "text/plain": [
       "<py2neo.database.Cursor at 0x7f1471be1358>"
      ]
     },
     "execution_count": 34,
     "metadata": {},
     "output_type": "execute_result"
    }
   ],
   "source": [
    "#the 0 group needs be done seperately because of the way cypher handles nodes that do not have a useful value.\n",
    "# graph.run(\"\"\"\n",
    "# MATCH (n)\n",
    "# WHERE ID(n)= 6670\n",
    "# MATCH (u:User) WHERE NOT exists(u.useful)\n",
    "# CREATE (u)-[:USEFUL_LEVEL]->(n)\n",
    "# \"\"\")"
   ]
  },
  {
   "cell_type": "code",
   "execution_count": 32,
   "metadata": {},
   "outputs": [],
   "source": [
    "#this is for testing the funny edge adding loop\n",
    "id_list=[(6674,0,1),(6680,1,3),(6681,3,7),(6682,7,19),(6683,110,999999)]\n",
    "dflist=[]\n",
    "for index in id_list:\n",
    "    tempdf=graph.run(f\"\\\n",
    "    MATCH (n)\\\n",
    "    WHERE ID(n)={index[0]}\\\n",
    "    MATCH (u:User) WHERE {index[1]}<u.useful<={index[2]}\\\n",
    "    RETURN n.useful, u.name, u.useful LIMIT 6\").to_data_frame()\n",
    "    dflist.append(tempdf)"
   ]
  },
  {
   "cell_type": "code",
   "execution_count": 37,
   "metadata": {},
   "outputs": [],
   "source": [
    "dflist;"
   ]
  },
  {
   "cell_type": "code",
   "execution_count": 38,
   "metadata": {},
   "outputs": [],
   "source": [
    "#this is for adding the useful edges\n",
    "# id_list=[(6674,0,1),(6680,1,3),(6681,3,7),(6682,7,19),(6683,110,999999)]\n",
    "# dflist=[]\n",
    "\n",
    "\n",
    "\n",
    "# for index in id_list:\n",
    "#     tempdf=graph.run(f\"\\\n",
    "#     MATCH (n)\\\n",
    "#     WHERE ID(n)={index[0]}\\\n",
    "#     MATCH (u:User) WHERE {index[1]}<u.useful<={index[2]}\\\n",
    "#     CREATE (u)-[:USEFUL_LEVEL]->(n)\").to_data_frame()\n",
    "#     dflist.append(tempdf)\n"
   ]
  },
  {
   "cell_type": "markdown",
   "metadata": {},
   "source": [
    "maybe put ghost users back in graph?"
   ]
  },
  {
   "cell_type": "code",
   "execution_count": null,
   "metadata": {},
   "outputs": [],
   "source": [
    "UNWIND split(friends,',') as friend\n",
    "MERGE (u1:User{id:friend})\n",
    "MERGE (u)-[:FRIEND]-(u1)"
   ]
  }
 ],
 "metadata": {
  "kernelspec": {
   "display_name": "conda_python3",
   "language": "python",
   "name": "conda_python3"
  },
  "language_info": {
   "codemirror_mode": {
    "name": "ipython",
    "version": 3
   },
   "file_extension": ".py",
   "mimetype": "text/x-python",
   "name": "python",
   "nbconvert_exporter": "python",
   "pygments_lexer": "ipython3",
   "version": "3.6.5"
  }
 },
 "nbformat": 4,
 "nbformat_minor": 4
}
