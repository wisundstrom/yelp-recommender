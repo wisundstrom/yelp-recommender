{
 "cells": [
  {
   "cell_type": "code",
   "execution_count": 2,
   "metadata": {
    "collapsed": true,
    "jupyter": {
     "outputs_hidden": true
    }
   },
   "outputs": [
    {
     "name": "stdout",
     "output_type": "stream",
     "text": [
      "Collecting neo4j\n",
      "  Downloading https://files.pythonhosted.org/packages/ed/a9/248314080b0f875facf898fb270e99024a3d47edf4cdb01c87ff9c447151/neo4j-1.7.5.tar.gz\n",
      "Collecting neobolt~=1.7.15 (from neo4j)\n",
      "\u001b[?25l  Downloading https://files.pythonhosted.org/packages/9f/63/bb8b2ba18b4929c8bd17299d499530d6779635439e33bcc95043dc597223/neobolt-1.7.15.tar.gz (183kB)\n",
      "\u001b[K    100% |████████████████████████████████| 184kB 32.7MB/s ta 0:00:01\n",
      "\u001b[?25hCollecting neotime~=1.7.1 (from neo4j)\n",
      "  Downloading https://files.pythonhosted.org/packages/0b/7e/ca368a8d8e288be1352d4e2df35da1e01f8aaffbf526695df71630bcb8a6/neotime-1.7.4.tar.gz\n",
      "Requirement already satisfied: pytz in /home/ec2-user/anaconda3/envs/python3/lib/python3.6/site-packages (from neotime~=1.7.1->neo4j) (2018.4)\n",
      "Requirement already satisfied: six in /home/ec2-user/anaconda3/envs/python3/lib/python3.6/site-packages (from neotime~=1.7.1->neo4j) (1.11.0)\n",
      "Building wheels for collected packages: neo4j, neobolt, neotime\n",
      "  Running setup.py bdist_wheel for neo4j ... \u001b[?25ldone\n",
      "\u001b[?25h  Stored in directory: /home/ec2-user/.cache/pip/wheels/c0/dc/2e/6a26c3a5c63bb49a81092caa5ee48895971c0f229ee7900e7d\n",
      "  Running setup.py bdist_wheel for neobolt ... \u001b[?25ldone\n",
      "\u001b[?25h  Stored in directory: /home/ec2-user/.cache/pip/wheels/42/54/00/270de525f8f966d864bd3a0224d38dca2573b53c1a54267720\n",
      "  Running setup.py bdist_wheel for neotime ... \u001b[?25ldone\n",
      "\u001b[?25h  Stored in directory: /home/ec2-user/.cache/pip/wheels/d4/b4/c4/ab867cd0ac9e667f8cd269f9364fd1cb8ee75fe50f5ce97c79\n",
      "Successfully built neo4j neobolt neotime\n",
      "Installing collected packages: neobolt, neotime, neo4j\n",
      "Successfully installed neo4j-1.7.5 neobolt-1.7.15 neotime-1.7.4\n",
      "\u001b[33mYou are using pip version 10.0.1, however version 19.2.3 is available.\n",
      "You should consider upgrading via the 'pip install --upgrade pip' command.\u001b[0m\n"
     ]
    }
   ],
   "source": [
    "# pip install py2neo\n",
    "# pip install neo4j\n",
    "#from py2neo import Graph\n",
    "from neo4j import GraphDatabase\n",
    "import pandas as pd\n",
    "import matplotlib.pyplot as plt\n",
    "import networkx as nx\n",
    "import seaborn as sns\n",
    "import numpy as np\n",
    "from graph_model import "
   ]
  },
  {
   "cell_type": "markdown",
   "metadata": {},
   "source": [
    "This notebook goes through converting some of the features of our data into more easily usable structures in the graph model"
   ]
  },
  {
   "cell_type": "code",
   "execution_count": 5,
   "metadata": {},
   "outputs": [],
   "source": [
    "graph = Graph(\"bolt://3.220.233.169:7687\", auth=(\"neo4j\", \"i-0e23d19f0d8795714\"))\n"
   ]
  },
  {
   "cell_type": "markdown",
   "metadata": {},
   "source": [
    "This cypher command returns the current constraints and indices that are set in the database, and then shows the the types of relationships that exist between types of nodes in the graph. It is one of the ways I use to make sure that queries are being sent and recceived correctly from the database, and make sure the database itself ihas not been messed up in some way.\n"
   ]
  },
  {
   "cell_type": "code",
   "execution_count": 29,
   "metadata": {},
   "outputs": [
    {
     "data": {
      "text/plain": [
       "[{'nodes': [(_-22:Category {constraints: [], indexes: ['name'], name: 'Category'}),\n",
       "   (_-23:User {constraints: ['CONSTRAINT ON ( user:User ) ASSERT user.id IS UNIQUE'], indexes: [], name: 'User'}),\n",
       "   (_-24:Review {constraints: ['CONSTRAINT ON ( review:Review ) ASSERT review.id IS UNIQUE'], indexes: [], name: 'Review'}),\n",
       "   (_-25:Reputation {constraints: [], indexes: [], name: 'Reputation'}),\n",
       "   (_-21:Business {constraints: ['CONSTRAINT ON ( business:Business ) ASSERT business.id IS UNIQUE'], indexes: [], name: 'Business'})],\n",
       "  'relationships': [(Review)-[:REVIEWS {}]->(Business),\n",
       "   (User)-[:WROTE {}]->(Review),\n",
       "   (User)-[:FRIEND {}]->(User),\n",
       "   (User)-[:COOL_LEVEL {}]->(Reputation),\n",
       "   (User)-[:FUNNY_LEVEL {}]->(Reputation),\n",
       "   (Business)-[:IN_CATEGORY {}]->(Category)]}]"
      ]
     },
     "execution_count": 29,
     "metadata": {},
     "output_type": "execute_result"
    }
   ],
   "source": [
    "graph.run(\"CALL db.schema()\").data()\n"
   ]
  },
  {
   "cell_type": "markdown",
   "metadata": {},
   "source": [
    "## User Feature Nodes ##"
   ]
  },
  {
   "cell_type": "markdown",
   "metadata": {},
   "source": [
    "These are distributions of funny, cool and useful responses that I want to divide into bins based roughly on quantiles. I will then create nodes in the graph for each bin and connect the user nodes to the bin they are put in. This makes it much more efficient and easy to query based on these bins, which will be a  part of the graph based reccomendation algorithm. As part of this process I added the nodes for the cool distribution and connected them individually on the server itself to make sure I was adding things the way I intended. I then made the loops below to automate some of the process. Adding the cool nodes and edges with loops would only require some modifications of the code below.\n",
    "\n",
    "| qunatile | ident | u.cool | u.funny | u.useful |\n",
    "| --- | --- | --- | --- | --- |\n",
    "| 0.20 | 1072521.40\t| 0.0 | 0.0 | 0.0 |\n",
    "| 0.35 | 1968091.95 | 0.0\t |0.0\t|1.0 |\n",
    "| 0.50 |\t3063662.50\t| 0.0\t | 0.0\t| 3.0 | \n",
    "| 0.65 |\t4389233.05\t| 1.0\t | 1.0\t| 7.0 |\n",
    "| 0.80 |\t5984803.60\t| 5.0\t | 4.0\t| 19.0 |\n",
    "| 0.95 |\t7830374.15\t| 36.0\t| 33.0\t| 110.0 |\n"
   ]
  },
  {
   "cell_type": "markdown",
   "metadata": {},
   "source": [
    "As a note some of the queries below are sent using py2neo, and then later I switched to using the standard neo4j driver with functions I wrote, so the syntax and packages requried will be different in some cases."
   ]
  },
  {
   "cell_type": "markdown",
   "metadata": {},
   "source": [
    "### Funny Edges ###"
   ]
  },
  {
   "cell_type": "code",
   "execution_count": 24,
   "metadata": {},
   "outputs": [
    {
     "data": {
      "text/plain": [
       "<py2neo.database.Cursor at 0x7f1471c456a0>"
      ]
     },
     "execution_count": 24,
     "metadata": {},
     "output_type": "execute_result"
    }
   ],
   "source": [
    "#the 0 group needs be done seperately because of the way cypher handles nodes that do not have a funny value.\n",
    "graph.run(\"\"\"\n",
    "MATCH (n)\n",
    "WHERE ID(n)= 6543\n",
    "MATCH (u:User) WHERE NOT exists(u.funny)\n",
    "CREATE (u)-[:FUNNY_LEVEL]->(n)\n",
    "\"\"\")"
   ]
  },
  {
   "cell_type": "code",
   "execution_count": null,
   "metadata": {},
   "outputs": [],
   "source": [
    "#this is for testing the funny edge adding loop\n",
    "id_list=[(6543,0,1),(6668,1,2),(6552,2,33),(6561,33,999999)]\n",
    "dflist=[]\n",
    "for index in id_list:\n",
    "    tempdf=graph.run(f\"\\\n",
    "    MATCH (n)\\\n",
    "    WHERE ID(n)={index[0]}\\\n",
    "    MATCH (u:User) WHERE {index[1]}=<u.funny<{index[2]}\\\n",
    "    RETURN n.funny, u.name, u.funny LIMIT 6\").to_data_frame()\n",
    "    dflist.append(tempdf)"
   ]
  },
  {
   "cell_type": "code",
   "execution_count": 25,
   "metadata": {},
   "outputs": [],
   "source": [
    "this is for adding the funny edges\n",
    "id_list=[(6668,1,2),(6552,2,33),(6561,33,999999)]\n",
    "dflist=[]\n",
    "\n",
    "\n",
    "for index in id_list:\n",
    "    tempdf=graph.run(f\"\\\n",
    "    MATCH (n)\\\n",
    "    WHERE ID(n)={index[0]}\\\n",
    "    MATCH (u:User) WHERE {index[1]}<=u.funny<{index[2]}\\\n",
    "    CREATE (u)-[:FUNNY_LEVEL]->(n)\").to_data_frame()\n",
    "    dflist.append(tempdf)\n"
   ]
  },
  {
   "cell_type": "markdown",
   "metadata": {},
   "source": [
    "### Useful Edges ###"
   ]
  },
  {
   "cell_type": "code",
   "execution_count": 34,
   "metadata": {},
   "outputs": [
    {
     "data": {
      "text/plain": [
       "<py2neo.database.Cursor at 0x7f1471be1358>"
      ]
     },
     "execution_count": 34,
     "metadata": {},
     "output_type": "execute_result"
    }
   ],
   "source": [
    "#the 0 group needs be done seperately because of the way cypher handles nodes that do not have a useful value.\n",
    "graph.run(\"\"\"\n",
    "MATCH (n)\n",
    "WHERE ID(n)= 6670\n",
    "MATCH (u:User) WHERE NOT exists(u.useful)\n",
    "CREATE (u)-[:USEFUL_LEVEL]->(n)\n",
    "\"\"\")"
   ]
  },
  {
   "cell_type": "code",
   "execution_count": 32,
   "metadata": {},
   "outputs": [],
   "source": [
    "#this is for testing the useful edge adding loop\n",
    "id_list=[(6674,0,1),(6680,1,3),(6681,3,7),(6682,7,19),(6683,110,999999)]\n",
    "dflist=[]\n",
    "for index in id_list:\n",
    "    tempdf=graph.run(f\"\\\n",
    "    MATCH (n)\\\n",
    "    WHERE ID(n)={index[0]}\\\n",
    "    MATCH (u:User) WHERE {index[1]}<u.useful<={index[2]}\\\n",
    "    RETURN n.useful, u.name, u.useful LIMIT 6\").to_data_frame()\n",
    "    dflist.append(tempdf)\n",
    "    "
   ]
  },
  {
   "cell_type": "code",
   "execution_count": 38,
   "metadata": {},
   "outputs": [],
   "source": [
    "#this is for adding the useful edges\n",
    "id_list=[(6674,0,1),(6680,1,3),(6681,3,7),(6682,7,19),(?????,19,110),(6683,110,999999)]\n",
    "dflist=[]\n",
    "\n",
    "for index in id_list:\n",
    "    tempdf=graph.run(f\"\\\n",
    "    MATCH (n)\\\n",
    "    WHERE ID(n)={index[0]}\\\n",
    "    MATCH (u:User) WHERE {index[1]}<u.useful<={index[2]}\\\n",
    "    CREATE (u)-[:USEFUL_LEVEL]->(n)\").to_data_frame()\n",
    "    dflist.append(tempdf)\n"
   ]
  },
  {
   "cell_type": "markdown",
   "metadata": {},
   "source": [
    "## Business Feature Nodes ##\n",
    "\n",
    "\n",
    "The Business nodes had category feature nodes and in_category edges created as the data was being imported from the json files (see data_import.txt). I still wanted to be able to quickly subset data based on geographical location for testing purposes. This was important because taking random samples of data to run tests on can lead to very sparse data, whereas making sure samples come from the same geographical area helps make sure we will have enough related data to run meaningful analysis."
   ]
  },
  {
   "cell_type": "code",
   "execution_count": 67,
   "metadata": {},
   "outputs": [],
   "source": [
    "#this gets us a list of all the cities listed for each business.\n",
    "with driver.session() as session:\n",
    "    result = session.run(\"\\\n",
    "MATCH (b:Business) \\\n",
    "RETURN distinct b.city\")\n",
    "\n",
    "cities=result.values()\n",
    "\n",
    "cities_df = pd.DataFrame(cities, columns = ['city'])\n",
    "\n",
    "cities_df.shape"
   ]
  },
  {
   "cell_type": "code",
   "execution_count": 73,
   "metadata": {},
   "outputs": [],
   "source": [
    "# this is to remove extraneous white space and lower case everything to consolidate city names with typos.\n",
    "cities_df2['city']=cities_df['city'].str.strip()\n",
    "cities_df2['city']=cities_df['city'].str.lower()\n",
    "\n",
    "cities_df2=cities_df2.drop_duplicates()\n",
    "\n",
    "cities_df2.shape"
   ]
  },
  {
   "cell_type": "code",
   "execution_count": 74,
   "metadata": {},
   "outputs": [
    {
     "data": {
      "text/html": [
       "<div>\n",
       "<style scoped>\n",
       "    .dataframe tbody tr th:only-of-type {\n",
       "        vertical-align: middle;\n",
       "    }\n",
       "\n",
       "    .dataframe tbody tr th {\n",
       "        vertical-align: top;\n",
       "    }\n",
       "\n",
       "    .dataframe thead th {\n",
       "        text-align: right;\n",
       "    }\n",
       "</style>\n",
       "<table border=\"1\" class=\"dataframe\">\n",
       "  <thead>\n",
       "    <tr style=\"text-align: right;\">\n",
       "      <th></th>\n",
       "      <th>city</th>\n",
       "    </tr>\n",
       "  </thead>\n",
       "  <tbody>\n",
       "    <tr>\n",
       "      <th>0</th>\n",
       "      <td>phoenix</td>\n",
       "    </tr>\n",
       "    <tr>\n",
       "      <th>1</th>\n",
       "      <td>mississauga</td>\n",
       "    </tr>\n",
       "    <tr>\n",
       "      <th>2</th>\n",
       "      <td>charlotte</td>\n",
       "    </tr>\n",
       "    <tr>\n",
       "      <th>3</th>\n",
       "      <td>goodyear</td>\n",
       "    </tr>\n",
       "    <tr>\n",
       "      <th>4</th>\n",
       "      <td>calgary</td>\n",
       "    </tr>\n",
       "  </tbody>\n",
       "</table>\n",
       "</div>"
      ],
      "text/plain": [
       "          city\n",
       "0      phoenix\n",
       "1  mississauga\n",
       "2    charlotte\n",
       "3     goodyear\n",
       "4      calgary"
      ]
     },
     "execution_count": 74,
     "metadata": {},
     "output_type": "execute_result"
    }
   ],
   "source": [
    "cities_df2.head()"
   ]
  },
  {
   "cell_type": "code",
   "execution_count": 92,
   "metadata": {},
   "outputs": [],
   "source": [
    "#this loop creates the city nodes\n",
    "for city in cities_df2['city']:\n",
    "    with driver.session() as session:\n",
    "        result = session.run(f'\\\n",
    "    CREATE (c:City) \\\n",
    "    SET c.name=\"{city}\" ')"
   ]
  },
  {
   "cell_type": "code",
   "execution_count": null,
   "metadata": {},
   "outputs": [],
   "source": [
    "# this loop adds the IN_CITY edges to to each business\n",
    "with driver.session() as session:\n",
    "    result = session.run('\\\n",
    "    MATCH (b:Business) \\\n",
    "    MATCH (c:City) WHERE c.name=tolower(trim(b.city))\\\n",
    "    SET c += {state:b.state}\\\n",
    "    CREATE (b)-[:IN_CITY]->(c)')"
   ]
  },
  {
   "cell_type": "markdown",
   "metadata": {},
   "source": [
    "Now that the city nodes and edges are in the graph I wanted to make sure each business has exactly one IN_CITY edge. I had to go in manually and fix two of the edges."
   ]
  },
  {
   "cell_type": "code",
   "execution_count": 127,
   "metadata": {},
   "outputs": [],
   "source": [
    "with driver.session() as session:\n",
    "    result = session.run('\\\n",
    "    MATCH (b:Business) \\\n",
    "    RETURN apoc.node.degree(b,\"IN_CITY\")')\n",
    "\n",
    "bizdegree=result.values()\n",
    "\n",
    "\n",
    "bizdegdf=pd.DataFrame(bizdegree)\n",
    "\n",
    "bizdegdf[0].value_counts()"
   ]
  },
  {
   "cell_type": "markdown",
   "metadata": {},
   "source": [
    "Now that I had the cypher queries worked out I was able query and add the states in one loop"
   ]
  },
  {
   "cell_type": "code",
   "execution_count": 148,
   "metadata": {},
   "outputs": [],
   "source": [
    "with driver.session() as session:\n",
    "    result = session.run('\\\n",
    "    MATCH (c:City) \\\n",
    "    MERGE (s:State {name:c.state}) \\\n",
    "    ON CREATE SET s.name=c.state \\\n",
    "    MERGE (c)-[:IN_STATE]->(s)')"
   ]
  },
  {
   "cell_type": "code",
   "execution_count": null,
   "metadata": {},
   "outputs": [],
   "source": [
    "# I used a similar loop from the cities to make sure that each city had only one state\n",
    "with driver.session() as session:\n",
    "    result = session.run('\\\n",
    "    MATCH (s:State)<-[:IN_STATE]-(c:City)\\\n",
    "    RETURN s.name, apoc.node.degree(s,\"IN_STATE\"), c.name, apoc.node.degree(c,\"IN_CITY\")')\n",
    "\n",
    "counts_by_state=result.values()\n",
    "\n",
    "countsdf=pd.DataFrame(counts_by_state)\n",
    "\n",
    "countsdf.groupby(0).sum()"
   ]
  },
  {
   "cell_type": "markdown",
   "metadata": {},
   "source": [
    "Later I came back to add edges between users and the states they have reviewed businesses in, so it uses the cypher function from graph_model.py"
   ]
  },
  {
   "cell_type": "code",
   "execution_count": null,
   "metadata": {},
   "outputs": [],
   "source": [
    "cypher(driver,\"MATCH (u:User)-[:WROTE]->(:Review)-[:REVIEWS]->(:Business)-[:IN_CITY]->(:City)-[:IN_STATE]->(s:State)\\\n",
    "CREATE (u)-[:REVIEWS_IN]->(s)\", None)"
   ]
  },
  {
   "cell_type": "code",
   "execution_count": null,
   "metadata": {},
   "outputs": [],
   "source": []
  }
 ],
 "metadata": {
  "kernelspec": {
   "display_name": "Python 3",
   "language": "python",
   "name": "python3"
  },
  "language_info": {
   "codemirror_mode": {
    "name": "ipython",
    "version": 3
   },
   "file_extension": ".py",
   "mimetype": "text/x-python",
   "name": "python",
   "nbconvert_exporter": "python",
   "pygments_lexer": "ipython3",
   "version": "3.7.4"
  }
 },
 "nbformat": 4,
 "nbformat_minor": 4
}
