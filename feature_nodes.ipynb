{
 "cells": [
  {
   "cell_type": "code",
   "execution_count": 1,
   "metadata": {},
   "outputs": [
    {
     "name": "stdout",
     "output_type": "stream",
     "text": [
      "Collecting py2neo\n",
      "Requirement already satisfied: colorama in /home/ec2-user/anaconda3/envs/tensorflow_p36/lib/python3.6/site-packages (from py2neo) (0.3.9)\n",
      "Collecting neotime~=1.7.4 (from py2neo)\n",
      "Collecting click==7.0 (from py2neo)\n",
      "  Using cached https://files.pythonhosted.org/packages/fa/37/45185cb5abbc30d7257104c434fe0b07e5a195a6847506c074527aa599ec/Click-7.0-py2.py3-none-any.whl\n",
      "Requirement already satisfied: certifi in /home/ec2-user/anaconda3/envs/tensorflow_p36/lib/python3.6/site-packages (from py2neo) (2019.6.16)\n",
      "Requirement already satisfied: pytz in /home/ec2-user/anaconda3/envs/tensorflow_p36/lib/python3.6/site-packages (from py2neo) (2018.4)\n",
      "Collecting prompt-toolkit~=2.0.7 (from py2neo)\n",
      "  Using cached https://files.pythonhosted.org/packages/87/61/2dfea88583d5454e3a64f9308a686071d58d59a55db638268a6413e1eb6d/prompt_toolkit-2.0.10-py3-none-any.whl\n",
      "Collecting pygments~=2.3.1 (from py2neo)\n",
      "  Using cached https://files.pythonhosted.org/packages/13/e5/6d710c9cf96c31ac82657bcfb441df328b22df8564d58d0c4cd62612674c/Pygments-2.3.1-py2.py3-none-any.whl\n",
      "Collecting neobolt~=1.7.12 (from py2neo)\n",
      "Requirement already satisfied: urllib3<1.25,>=1.23 in /home/ec2-user/anaconda3/envs/tensorflow_p36/lib/python3.6/site-packages (from py2neo) (1.23)\n",
      "Requirement already satisfied: six in /home/ec2-user/anaconda3/envs/tensorflow_p36/lib/python3.6/site-packages (from neotime~=1.7.4->py2neo) (1.11.0)\n",
      "Requirement already satisfied: wcwidth in /home/ec2-user/anaconda3/envs/tensorflow_p36/lib/python3.6/site-packages (from prompt-toolkit~=2.0.7->py2neo) (0.1.7)\n",
      "\u001b[31mjupyter-console 5.2.0 has requirement prompt_toolkit<2.0.0,>=1.0.0, but you'll have prompt-toolkit 2.0.10 which is incompatible.\u001b[0m\n",
      "\u001b[31mipython 6.4.0 has requirement prompt-toolkit<2.0.0,>=1.0.15, but you'll have prompt-toolkit 2.0.10 which is incompatible.\u001b[0m\n",
      "Installing collected packages: neotime, click, prompt-toolkit, pygments, neobolt, py2neo\n",
      "  Found existing installation: click 6.7\n",
      "    Uninstalling click-6.7:\n",
      "      Successfully uninstalled click-6.7\n",
      "  Found existing installation: prompt-toolkit 1.0.15\n",
      "    Uninstalling prompt-toolkit-1.0.15:\n",
      "      Successfully uninstalled prompt-toolkit-1.0.15\n",
      "  Found existing installation: Pygments 2.2.0\n",
      "    Uninstalling Pygments-2.2.0:\n",
      "      Successfully uninstalled Pygments-2.2.0\n",
      "Successfully installed click-7.0 neobolt-1.7.15 neotime-1.7.4 prompt-toolkit-2.0.10 py2neo-4.3.0 pygments-2.3.1\n",
      "\u001b[33mYou are using pip version 10.0.1, however version 19.2.3 is available.\n",
      "You should consider upgrading via the 'pip install --upgrade pip' command.\u001b[0m\n"
     ]
    }
   ],
   "source": [
    "#! pip install py2neo\n",
    "from py2neo import Graph\n",
    "import pandas as pd\n",
    "import matplotlib.pyplot as plt\n",
    "import networkx as nx\n",
    "import seaborn as sns\n",
    "import numpy as np\n"
   ]
  },
  {
   "cell_type": "code",
   "execution_count": 28,
   "metadata": {},
   "outputs": [],
   "source": [
    "graph = Graph(\"bolt://3.220.233.169:7687\", auth=(\"neo4j\", \"i-0e23d19f0d8795714\"))"
   ]
  },
  {
   "cell_type": "code",
   "execution_count": 29,
   "metadata": {},
   "outputs": [
    {
     "data": {
      "text/plain": [
       "[{'nodes': [(_-22:Category {constraints: [], indexes: ['name'], name: 'Category'}),\n",
       "   (_-23:User {constraints: ['CONSTRAINT ON ( user:User ) ASSERT user.id IS UNIQUE'], indexes: [], name: 'User'}),\n",
       "   (_-24:Review {constraints: ['CONSTRAINT ON ( review:Review ) ASSERT review.id IS UNIQUE'], indexes: [], name: 'Review'}),\n",
       "   (_-25:Reputation {constraints: [], indexes: [], name: 'Reputation'}),\n",
       "   (_-21:Business {constraints: ['CONSTRAINT ON ( business:Business ) ASSERT business.id IS UNIQUE'], indexes: [], name: 'Business'})],\n",
       "  'relationships': [(Review)-[:REVIEWS {}]->(Business),\n",
       "   (User)-[:WROTE {}]->(Review),\n",
       "   (User)-[:FRIEND {}]->(User),\n",
       "   (User)-[:COOL_LEVEL {}]->(Reputation),\n",
       "   (User)-[:FUNNY_LEVEL {}]->(Reputation),\n",
       "   (Business)-[:IN_CATEGORY {}]->(Category)]}]"
      ]
     },
     "execution_count": 29,
     "metadata": {},
     "output_type": "execute_result"
    }
   ],
   "source": [
    "graph.run(\"CALL db.schema()\").data()\n"
   ]
  },
  {
   "cell_type": "markdown",
   "metadata": {},
   "source": [
    "now trying to automate atleast some of the process for the other attributes\n",
    "\n",
    "| qunatile | ident | u.cool | u.funny | u.useful |\n",
    "| --- | --- | --- | --- | --- |\n",
    "| 0.20 | 1072521.40\t| 0.0 | 0.0 | 0.0 |\n",
    "| 0.35 | 1968091.95 | 0.0\t |0.0\t|1.0 |\n",
    "| 0.50 |\t3063662.50\t| 0.0\t | 0.0\t| 3.0 | \n",
    "| 0.65 |\t4389233.05\t| 1.0\t | 1.0\t| 7.0 |\n",
    "| 0.80 |\t5984803.60\t| 5.0\t | 4.0\t| 19.0 |\n",
    "| 0.95 |\t7830374.15\t| 36.0\t| 33.0\t| 110.0 |\n"
   ]
  },
  {
   "cell_type": "code",
   "execution_count": null,
   "metadata": {},
   "outputs": [],
   "source": []
  },
  {
   "cell_type": "code",
   "execution_count": 24,
   "metadata": {},
   "outputs": [
    {
     "data": {
      "text/plain": [
       "<py2neo.database.Cursor at 0x7f1471c456a0>"
      ]
     },
     "execution_count": 24,
     "metadata": {},
     "output_type": "execute_result"
    }
   ],
   "source": [
    "#the 0 group needs be done seperately because of the way cypher handles nodes that do not have a funny value.\n",
    "# graph.run(\"\"\"\n",
    "# MATCH (n)\n",
    "# WHERE ID(n)= 6543\n",
    "# MATCH (u:User) WHERE NOT exists(u.funny)\n",
    "# CREATE (u)-[:FUNNY_LEVEL]->(n)\n",
    "# \"\"\")"
   ]
  },
  {
   "cell_type": "code",
   "execution_count": null,
   "metadata": {},
   "outputs": [],
   "source": [
    "#this is for testing the funny edge adding loop\n",
    "id_list=[(6543,0,1),(6668,1,2),(6552,2,33),(6561,33,999999)]\n",
    "dflist=[]\n",
    "for index in id_list:\n",
    "    tempdf=graph.run(f\"\\\n",
    "    MATCH (n)\\\n",
    "    WHERE ID(n)={index[0]}\\\n",
    "    MATCH (u:User) WHERE {index[1]}=<u.funny<{index[2]}\\\n",
    "    RETURN n.funny, u.name, u.funny LIMIT 6\").to_data_frame()\n",
    "    dflist.append(tempdf)"
   ]
  },
  {
   "cell_type": "code",
   "execution_count": 25,
   "metadata": {},
   "outputs": [],
   "source": [
    "#this is for adding the funny edges\n",
    "# id_list=[(6668,1,2),(6552,2,33),(6561,33,999999)]\n",
    "# dflist=[]\n",
    "\n",
    "\n",
    "\n",
    "# for index in id_list:\n",
    "#     tempdf=graph.run(f\"\\\n",
    "#     MATCH (n)\\\n",
    "#     WHERE ID(n)={index[0]}\\\n",
    "#     MATCH (u:User) WHERE {index[1]}<=u.funny<{index[2]}\\\n",
    "#     CREATE (u)-[:FUNNY_LEVEL]->(n)\").to_data_frame()\n",
    "#     dflist.append(tempdf)\n"
   ]
  },
  {
   "cell_type": "code",
   "execution_count": 34,
   "metadata": {},
   "outputs": [
    {
     "data": {
      "text/plain": [
       "<py2neo.database.Cursor at 0x7f1471be1358>"
      ]
     },
     "execution_count": 34,
     "metadata": {},
     "output_type": "execute_result"
    }
   ],
   "source": [
    "#the 0 group needs be done seperately because of the way cypher handles nodes that do not have a useful value.\n",
    "# graph.run(\"\"\"\n",
    "# MATCH (n)\n",
    "# WHERE ID(n)= 6670\n",
    "# MATCH (u:User) WHERE NOT exists(u.useful)\n",
    "# CREATE (u)-[:USEFUL_LEVEL]->(n)\n",
    "# \"\"\")"
   ]
  },
  {
   "cell_type": "code",
   "execution_count": 32,
   "metadata": {},
   "outputs": [],
   "source": [
    "#this is for testing the funny edge adding loop\n",
    "id_list=[(6674,0,1),(6680,1,3),(6681,3,7),(6682,7,19),(6683,110,999999)]\n",
    "dflist=[]\n",
    "for index in id_list:\n",
    "    tempdf=graph.run(f\"\\\n",
    "    MATCH (n)\\\n",
    "    WHERE ID(n)={index[0]}\\\n",
    "    MATCH (u:User) WHERE {index[1]}<u.useful<={index[2]}\\\n",
    "    RETURN n.useful, u.name, u.useful LIMIT 6\").to_data_frame()\n",
    "    dflist.append(tempdf)"
   ]
  },
  {
   "cell_type": "code",
   "execution_count": 37,
   "metadata": {},
   "outputs": [],
   "source": [
    "dflist;"
   ]
  },
  {
   "cell_type": "code",
   "execution_count": 38,
   "metadata": {},
   "outputs": [],
   "source": [
    "#this is for adding the useful edges\n",
    "# id_list=[(6674,0,1),(6680,1,3),(6681,3,7),(6682,7,19),(6683,110,999999)]\n",
    "# dflist=[]\n",
    "\n",
    "\n",
    "\n",
    "# for index in id_list:\n",
    "#     tempdf=graph.run(f\"\\\n",
    "#     MATCH (n)\\\n",
    "#     WHERE ID(n)={index[0]}\\\n",
    "#     MATCH (u:User) WHERE {index[1]}<u.useful<={index[2]}\\\n",
    "#     CREATE (u)-[:USEFUL_LEVEL]->(n)\").to_data_frame()\n",
    "#     dflist.append(tempdf)\n"
   ]
  },
  {
   "cell_type": "markdown",
   "metadata": {},
   "source": [
    "maybe put ghost users back in graph?"
   ]
  },
  {
   "cell_type": "code",
   "execution_count": null,
   "metadata": {},
   "outputs": [],
   "source": [
    "UNWIND split(friends,',') as friend\n",
    "MERGE (u1:User{id:friend})\n",
    "MERGE (u)-[:FRIEND]-(u1)"
   ]
  }
 ],
 "metadata": {
  "kernelspec": {
   "display_name": "conda_tensorflow_p36",
   "language": "python",
   "name": "conda_tensorflow_p36"
  },
  "language_info": {
   "codemirror_mode": {
    "name": "ipython",
    "version": 3
   },
   "file_extension": ".py",
   "mimetype": "text/x-python",
   "name": "python",
   "nbconvert_exporter": "python",
   "pygments_lexer": "ipython3",
   "version": "3.6.5"
  }
 },
 "nbformat": 4,
 "nbformat_minor": 4
}
