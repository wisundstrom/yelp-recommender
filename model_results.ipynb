{
 "cells": [
  {
   "cell_type": "code",
   "execution_count": 3,
   "metadata": {},
   "outputs": [],
   "source": [
    "#!pip install neo4j\n",
    "#!pip install surprise\n",
    "import pandas as pd\n",
    "import numpy as np\n",
    "from neo4j import GraphDatabase\n",
    "import graph_model as gm\n",
    "from sklearn.metrics import mean_squared_error, mean_absolute_error\n",
    "from surprise import Reader\n",
    "from surprise import Dataset\n",
    "from surprise import accuracy\n",
    "from surprise import KNNBaseline\n",
    "from surprise import SVDpp\n",
    "from surprise import CoClustering\n",
    "from surprise.model_selection import cross_validate\n",
    "import matplotlib.pyplot as plt\n",
    "import seaborn as sns\n",
    "\n",
    "np.set_printoptions(suppress=True)"
   ]
  },
  {
   "cell_type": "markdown",
   "metadata": {},
   "source": [
    "# Model Tuning and Testing #"
   ]
  },
  {
   "cell_type": "markdown",
   "metadata": {},
   "source": [
    "This file contains the final cross validation results for all of the reccomendation systems I experimented with. The results of previous hyperparamter searches are in the cv_results folder. The models were tuned used cross validiton on a few states, mostly Pennsylvainia, Ohio and Illinois.  I then used Quebec as the test set, so none of the models were tuned on this data.\n",
    "\n",
    "This first section is grabbing the Quebec data from the server and making sure we have it all."
   ]
  },
  {
   "cell_type": "code",
   "execution_count": 4,
   "metadata": {},
   "outputs": [
    {
     "data": {
      "text/html": [
       "<div>\n",
       "<style scoped>\n",
       "    .dataframe tbody tr th:only-of-type {\n",
       "        vertical-align: middle;\n",
       "    }\n",
       "\n",
       "    .dataframe tbody tr th {\n",
       "        vertical-align: top;\n",
       "    }\n",
       "\n",
       "    .dataframe thead th {\n",
       "        text-align: right;\n",
       "    }\n",
       "</style>\n",
       "<table border=\"1\" class=\"dataframe\">\n",
       "  <thead>\n",
       "    <tr style=\"text-align: right;\">\n",
       "      <th></th>\n",
       "      <th>userID</th>\n",
       "      <th>rating</th>\n",
       "      <th>itemID</th>\n",
       "    </tr>\n",
       "  </thead>\n",
       "  <tbody>\n",
       "    <tr>\n",
       "      <td>0</td>\n",
       "      <td>pv6iucL4vcT4Bm69nd477g</td>\n",
       "      <td>1.0</td>\n",
       "      <td>Wrpf3g5EUyuWbf-ey9aQ_A</td>\n",
       "    </tr>\n",
       "    <tr>\n",
       "      <td>1</td>\n",
       "      <td>d-lhIwhk_9cDGSzF6ZQ-SA</td>\n",
       "      <td>1.0</td>\n",
       "      <td>Wrpf3g5EUyuWbf-ey9aQ_A</td>\n",
       "    </tr>\n",
       "    <tr>\n",
       "      <td>2</td>\n",
       "      <td>JFt7m1ZtnWhX2dQNZGmvQw</td>\n",
       "      <td>3.0</td>\n",
       "      <td>Wrpf3g5EUyuWbf-ey9aQ_A</td>\n",
       "    </tr>\n",
       "    <tr>\n",
       "      <td>3</td>\n",
       "      <td>8apKnC2iVfWnfB4cIgUBMw</td>\n",
       "      <td>3.0</td>\n",
       "      <td>Wrpf3g5EUyuWbf-ey9aQ_A</td>\n",
       "    </tr>\n",
       "    <tr>\n",
       "      <td>4</td>\n",
       "      <td>ZRYqMyXtb-kmHIhDrRdI0Q</td>\n",
       "      <td>4.0</td>\n",
       "      <td>5mVE0xEy9NfMdkhliPh8IQ</td>\n",
       "    </tr>\n",
       "  </tbody>\n",
       "</table>\n",
       "</div>"
      ],
      "text/plain": [
       "                   userID  rating                  itemID\n",
       "0  pv6iucL4vcT4Bm69nd477g     1.0  Wrpf3g5EUyuWbf-ey9aQ_A\n",
       "1  d-lhIwhk_9cDGSzF6ZQ-SA     1.0  Wrpf3g5EUyuWbf-ey9aQ_A\n",
       "2  JFt7m1ZtnWhX2dQNZGmvQw     3.0  Wrpf3g5EUyuWbf-ey9aQ_A\n",
       "3  8apKnC2iVfWnfB4cIgUBMw     3.0  Wrpf3g5EUyuWbf-ey9aQ_A\n",
       "4  ZRYqMyXtb-kmHIhDrRdI0Q     4.0  5mVE0xEy9NfMdkhliPh8IQ"
      ]
     },
     "execution_count": 4,
     "metadata": {},
     "output_type": "execute_result"
    }
   ],
   "source": [
    "uri = \"bolt://54.145.141.152:7687\"''\n",
    "driver = GraphDatabase.driver(uri, auth=(\"neo4j\", \"i-0e23d19f0d8795714\"))\n",
    "\n",
    "result = gm.cypher(driver,'\\\n",
    "    MATCH (u:User)-->(r:Review)-->(b:Business)-->(:City)-->(s:State {name:\"QC\"})\\\n",
    "    RETURN u.id, r.stars, b.id', [\"userID\", \"rating\", \"itemID\"])\n",
    "\n",
    "QC_reviewsdf = result\n",
    "QC_reviewsdf.head()"
   ]
  },
  {
   "cell_type": "code",
   "execution_count": null,
   "metadata": {},
   "outputs": [],
   "source": [
    "QC_reviewsdf.to_csv('Q')"
   ]
  },
  {
   "cell_type": "code",
   "execution_count": 6,
   "metadata": {},
   "outputs": [
    {
     "data": {
      "text/plain": [
       "(178971, 3)"
      ]
     },
     "execution_count": 6,
     "metadata": {},
     "output_type": "execute_result"
    }
   ],
   "source": [
    "QC_reviewsdf.shape"
   ]
  },
  {
   "cell_type": "code",
   "execution_count": 7,
   "metadata": {},
   "outputs": [
    {
     "data": {
      "text/plain": [
       "userID    52738\n",
       "rating        5\n",
       "itemID     9210\n",
       "dtype: int64"
      ]
     },
     "execution_count": 7,
     "metadata": {},
     "output_type": "execute_result"
    }
   ],
   "source": [
    "QC_reviewsdf.nunique()"
   ]
  },
  {
   "cell_type": "code",
   "execution_count": 10,
   "metadata": {},
   "outputs": [],
   "source": [
    "#Now we put the data into a dataset object for use by the surprise package testing methods\n",
    "reader = Reader(rating_scale=(1, 5))\n",
    "data = Dataset.load_from_df(QC_reviewsdf[['userID', 'itemID', 'rating']], reader)\n",
    "\n",
    "# for the graph model we have to take a random sample of businesses to test. The rest of the businesses are potentially\n",
    "#used in the calculating predicted reviews.\n",
    "test_sample = QC_reviewsdf.sample(4000)\n"
   ]
  },
  {
   "cell_type": "markdown",
   "metadata": {},
   "source": [
    "## Testing the Graph Model ##"
   ]
  },
  {
   "cell_type": "code",
   "execution_count": 12,
   "metadata": {},
   "outputs": [],
   "source": [
    "test_sample['prediction'] = [gm.graph_model_predict(driver, x , y) for x,y in zip(test_sample['userID'], test_sample['itemID'])]\n",
    "test_sample['error'] = test_sample.rating-test_sample.prediction\n",
    "\n",
    "rms = pow(mean_squared_error(test_sample.rating, test_sample.prediction), .5)\n",
    "mae = mean_absolute_error(test_sample.rating, test_sample.prediction)\n",
    "rms,mae"
   ]
  },
  {
   "cell_type": "code",
   "execution_count": 20,
   "metadata": {},
   "outputs": [
    {
     "data": {
      "text/plain": [
       "<matplotlib.axes._subplots.AxesSubplot at 0x7fec1c3216a0>"
      ]
     },
     "execution_count": 20,
     "metadata": {},
     "output_type": "execute_result"
    },
    {
     "data": {
      "image/png": "[encoded data removed]",
      "text/plain": [
       "<Figure size 432x288 with 1 Axes>"
      ]
     },
     "metadata": {},
     "output_type": "display_data"
    }
   ],
   "source": [
    "sns.residplot(test_sample.rating, test_sample.prediction, color=\"g\")"
   ]
  },
  {
   "cell_type": "markdown",
   "metadata": {},
   "source": [
    "Evaluation of prediciton models: SVDpp, Coclustering, and KNN with baseline esitamates both user and item focused. We also investigate the effectiveness of ensembling these methods and taking an mean and median average. "
   ]
  },
  {
   "cell_type": "code",
   "execution_count": 8,
   "metadata": {},
   "outputs": [],
   "source": [
    "coclu=CoClustering(n_cltr_u=2, n_cltr_i=6, n_epochs=40)\n"
   ]
  },
  {
   "cell_type": "code",
   "execution_count": 9,
   "metadata": {},
   "outputs": [],
   "source": [
    "svd=SVDpp(n_factors=15, n_epochs=15, lr_all=.02, reg_all=.2)\n",
    "\n"
   ]
  },
  {
   "cell_type": "code",
   "execution_count": 10,
   "metadata": {},
   "outputs": [],
   "source": [
    "sim_options = {'name': 'pearson_baseline',\n",
    "               'user_based': False,\n",
    "               'min_support': 10,\n",
    "               'shrinkage': 50\n",
    "              }\n",
    "\n",
    "bsl_options = {'method': 'als',\n",
    "               'n_epochs': 15,\n",
    "               'reg_u': 5,\n",
    "               'reg_i': 2\n",
    "               }\n",
    "\n",
    "\n",
    "knn=KNNBaseline(sim_options=sim_options, bsl_options=bsl_options, k=30, min_k=15)\n"
   ]
  },
  {
   "cell_type": "code",
   "execution_count": 14,
   "metadata": {},
   "outputs": [],
   "source": []
  },
  {
   "cell_type": "code",
   "execution_count": 11,
   "metadata": {},
   "outputs": [
    {
     "name": "stdout",
     "output_type": "stream",
     "text": [
      "Evaluating RMSE, MAE of algorithm CoClustering on 5 split(s).\n",
      "\n",
      "                  Fold 1  Fold 2  Fold 3  Fold 4  Fold 5  Mean    Std     \n",
      "RMSE (testset)    1.2510  1.2553  1.2529  1.2613  1.2627  1.2566  0.0046  \n",
      "MAE (testset)     0.9402  0.9403  0.9395  0.9456  0.9488  0.9429  0.0037  \n",
      "Fit time          14.19   13.97   14.27   14.21   14.23   14.17   0.10    \n",
      "Test time         0.32    0.32    0.20    0.32    0.33    0.30    0.05    \n"
     ]
    },
    {
     "data": {
      "text/plain": [
       "{'test_rmse': array([1.2510053 , 1.25525689, 1.25287729, 1.2613098 , 1.26271075]),\n",
       " 'test_mae': array([0.94023614, 0.94025611, 0.93951462, 0.9455891 , 0.94877878]),\n",
       " 'fit_time': (14.18798279762268,\n",
       "  13.974129676818848,\n",
       "  14.26918888092041,\n",
       "  14.20827841758728,\n",
       "  14.228464365005493),\n",
       " 'test_time': (0.3239619731903076,\n",
       "  0.3242943286895752,\n",
       "  0.20160865783691406,\n",
       "  0.32163500785827637,\n",
       "  0.32757997512817383)}"
      ]
     },
     "execution_count": 11,
     "metadata": {},
     "output_type": "execute_result"
    }
   ],
   "source": [
    "cross_validate(coclu, data, verbose=True)"
   ]
  },
  {
   "cell_type": "code",
   "execution_count": 12,
   "metadata": {},
   "outputs": [
    {
     "name": "stdout",
     "output_type": "stream",
     "text": [
      "Evaluating RMSE, MAE of algorithm SVDpp on 5 split(s).\n",
      "\n",
      "                  Fold 1  Fold 2  Fold 3  Fold 4  Fold 5  Mean    Std     \n",
      "RMSE (testset)    1.1241  1.1286  1.1265  1.1251  1.1374  1.1284  0.0048  \n",
      "MAE (testset)     0.8790  0.8812  0.8822  0.8803  0.8886  0.8823  0.0033  \n",
      "Fit time          44.12   47.11   44.53   44.78   44.97   45.10   1.05    \n",
      "Test time         1.89    2.03    2.07    2.09    2.00    2.01    0.07    \n"
     ]
    },
    {
     "data": {
      "text/plain": [
       "{'test_rmse': array([1.12414642, 1.12860151, 1.12652921, 1.12507021, 1.13744645]),\n",
       " 'test_mae': array([0.87896629, 0.88122054, 0.88224494, 0.88031921, 0.88857595]),\n",
       " 'fit_time': (44.12103247642517,\n",
       "  47.1144483089447,\n",
       "  44.52857279777527,\n",
       "  44.77706813812256,\n",
       "  44.97261071205139),\n",
       " 'test_time': (1.8885676860809326,\n",
       "  2.0316741466522217,\n",
       "  2.066457509994507,\n",
       "  2.0894460678100586,\n",
       "  1.9984714984893799)}"
      ]
     },
     "execution_count": 12,
     "metadata": {},
     "output_type": "execute_result"
    }
   ],
   "source": [
    "cross_validate(svd, data, verbose=True)"
   ]
  },
  {
   "cell_type": "code",
   "execution_count": 13,
   "metadata": {},
   "outputs": [
    {
     "name": "stdout",
     "output_type": "stream",
     "text": [
      "Estimating biases using als...\n",
      "Computing the pearson_baseline similarity matrix...\n",
      "Done computing similarity matrix.\n",
      "Estimating biases using als...\n",
      "Computing the pearson_baseline similarity matrix...\n",
      "Done computing similarity matrix.\n",
      "Estimating biases using als...\n",
      "Computing the pearson_baseline similarity matrix...\n",
      "Done computing similarity matrix.\n",
      "Estimating biases using als...\n",
      "Computing the pearson_baseline similarity matrix...\n",
      "Done computing similarity matrix.\n",
      "Estimating biases using als...\n",
      "Computing the pearson_baseline similarity matrix...\n",
      "Done computing similarity matrix.\n",
      "Evaluating RMSE, MAE of algorithm KNNBaseline on 5 split(s).\n",
      "\n",
      "                  Fold 1  Fold 2  Fold 3  Fold 4  Fold 5  Mean    Std     \n",
      "RMSE (testset)    1.1147  1.1262  1.1238  1.1237  1.1212  1.1219  0.0040  \n",
      "MAE (testset)     0.8706  0.8790  0.8730  0.8765  0.8733  0.8745  0.0030  \n",
      "Fit time          5.92    6.00    5.99    6.05    5.98    5.99    0.04    \n",
      "Test time         1.42    1.40    1.62    1.61    1.62    1.53    0.10    \n"
     ]
    },
    {
     "data": {
      "text/plain": [
       "{'test_rmse': array([1.1146612 , 1.12624527, 1.12378043, 1.12366525, 1.12120049]),\n",
       " 'test_mae': array([0.87055734, 0.87903172, 0.87297376, 0.87646662, 0.87328342]),\n",
       " 'fit_time': (5.918645143508911,\n",
       "  5.99767804145813,\n",
       "  5.991095781326294,\n",
       "  6.049122333526611,\n",
       "  5.979476451873779),\n",
       " 'test_time': (1.4174723625183105,\n",
       "  1.3976738452911377,\n",
       "  1.6226787567138672,\n",
       "  1.6135437488555908,\n",
       "  1.6180102825164795)}"
      ]
     },
     "execution_count": 13,
     "metadata": {},
     "output_type": "execute_result"
    }
   ],
   "source": [
    "cross_validate(knn, data, verbose=True)"
   ]
  },
  {
   "cell_type": "code",
   "execution_count": null,
   "metadata": {},
   "outputs": [],
   "source": []
  },
  {
   "cell_type": "code",
   "execution_count": null,
   "metadata": {},
   "outputs": [],
   "source": []
  }
 ],
 "metadata": {
  "kernelspec": {
   "display_name": "Python 3",
   "language": "python",
   "name": "python3"
  },
  "language_info": {
   "codemirror_mode": {
    "name": "ipython",
    "version": 3
   },
   "file_extension": ".py",
   "mimetype": "text/x-python",
   "name": "python",
   "nbconvert_exporter": "python",
   "pygments_lexer": "ipython3",
   "version": "3.7.4"
  }
 },
 "nbformat": 4,
 "nbformat_minor": 4
}
