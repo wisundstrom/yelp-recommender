{
 "cells": [
  {
   "cell_type": "code",
   "execution_count": 1,
   "metadata": {},
   "outputs": [
    {
     "name": "stdout",
     "output_type": "stream",
     "text": [
      "Collecting py2neo\n",
      "\u001b[?25l  Downloading https://files.pythonhosted.org/packages/af/41/c2d52a226b560618fe3df213a15e3f1ea3da09b8520a439756b619f3157d/py2neo-4.3.0.tar.gz (71kB)\n",
      "\u001b[K    100% |████████████████████████████████| 71kB 31.6MB/s ta 0:00:01\n",
      "\u001b[?25hRequirement already satisfied: certifi in /home/ec2-user/anaconda3/envs/python3/lib/python3.6/site-packages (from py2neo) (2019.6.16)\n",
      "Collecting click==7.0 (from py2neo)\n",
      "\u001b[?25l  Downloading https://files.pythonhosted.org/packages/fa/37/45185cb5abbc30d7257104c434fe0b07e5a195a6847506c074527aa599ec/Click-7.0-py2.py3-none-any.whl (81kB)\n",
      "\u001b[K    100% |████████████████████████████████| 81kB 37.7MB/s ta 0:00:01\n",
      "\u001b[?25hRequirement already satisfied: colorama in /home/ec2-user/anaconda3/envs/python3/lib/python3.6/site-packages (from py2neo) (0.3.9)\n",
      "Collecting neobolt~=1.7.12 (from py2neo)\n",
      "\u001b[?25l  Downloading https://files.pythonhosted.org/packages/9f/63/bb8b2ba18b4929c8bd17299d499530d6779635439e33bcc95043dc597223/neobolt-1.7.15.tar.gz (183kB)\n",
      "\u001b[K    100% |████████████████████████████████| 184kB 40.2MB/s ta 0:00:01\n",
      "\u001b[?25hCollecting neotime~=1.7.4 (from py2neo)\n",
      "  Downloading https://files.pythonhosted.org/packages/0b/7e/ca368a8d8e288be1352d4e2df35da1e01f8aaffbf526695df71630bcb8a6/neotime-1.7.4.tar.gz\n",
      "Collecting prompt_toolkit~=2.0.7 (from py2neo)\n",
      "\u001b[?25l  Downloading https://files.pythonhosted.org/packages/87/61/2dfea88583d5454e3a64f9308a686071d58d59a55db638268a6413e1eb6d/prompt_toolkit-2.0.10-py3-none-any.whl (340kB)\n",
      "\u001b[K    100% |████████████████████████████████| 348kB 38.0MB/s ta 0:00:01\n",
      "\u001b[?25hCollecting pygments~=2.3.1 (from py2neo)\n",
      "\u001b[?25l  Downloading https://files.pythonhosted.org/packages/13/e5/6d710c9cf96c31ac82657bcfb441df328b22df8564d58d0c4cd62612674c/Pygments-2.3.1-py2.py3-none-any.whl (849kB)\n",
      "\u001b[K    100% |████████████████████████████████| 849kB 31.6MB/s ta 0:00:01\n",
      "\u001b[?25hRequirement already satisfied: pytz in /home/ec2-user/anaconda3/envs/python3/lib/python3.6/site-packages (from py2neo) (2018.4)\n",
      "Requirement already satisfied: urllib3<1.25,>=1.23 in /home/ec2-user/anaconda3/envs/python3/lib/python3.6/site-packages (from py2neo) (1.23)\n",
      "Requirement already satisfied: six in /home/ec2-user/anaconda3/envs/python3/lib/python3.6/site-packages (from neotime~=1.7.4->py2neo) (1.11.0)\n",
      "Requirement already satisfied: wcwidth in /home/ec2-user/anaconda3/envs/python3/lib/python3.6/site-packages (from prompt_toolkit~=2.0.7->py2neo) (0.1.7)\n",
      "Building wheels for collected packages: py2neo, neobolt, neotime\n",
      "  Running setup.py bdist_wheel for py2neo ... \u001b[?25ldone\n",
      "\u001b[?25h  Stored in directory: /home/ec2-user/.cache/pip/wheels/86/7d/e3/35bd456d80e796ba1f98730b629352ebab5294c942e8fdd826\n",
      "  Running setup.py bdist_wheel for neobolt ... \u001b[?25ldone\n",
      "\u001b[?25h  Stored in directory: /home/ec2-user/.cache/pip/wheels/42/54/00/270de525f8f966d864bd3a0224d38dca2573b53c1a54267720\n",
      "  Running setup.py bdist_wheel for neotime ... \u001b[?25ldone\n",
      "\u001b[?25h  Stored in directory: /home/ec2-user/.cache/pip/wheels/d4/b4/c4/ab867cd0ac9e667f8cd269f9364fd1cb8ee75fe50f5ce97c79\n",
      "Successfully built py2neo neobolt neotime\n",
      "\u001b[31mjupyter-console 5.2.0 has requirement prompt_toolkit<2.0.0,>=1.0.0, but you'll have prompt-toolkit 2.0.10 which is incompatible.\u001b[0m\n",
      "\u001b[31mipython 6.4.0 has requirement prompt-toolkit<2.0.0,>=1.0.15, but you'll have prompt-toolkit 2.0.10 which is incompatible.\u001b[0m\n",
      "Installing collected packages: click, neobolt, neotime, prompt-toolkit, pygments, py2neo\n",
      "  Found existing installation: click 6.7\n",
      "    Uninstalling click-6.7:\n",
      "      Successfully uninstalled click-6.7\n",
      "  Found existing installation: prompt-toolkit 1.0.15\n",
      "    Uninstalling prompt-toolkit-1.0.15:\n",
      "      Successfully uninstalled prompt-toolkit-1.0.15\n",
      "  Found existing installation: Pygments 2.2.0\n",
      "    Uninstalling Pygments-2.2.0:\n",
      "      Successfully uninstalled Pygments-2.2.0\n",
      "Successfully installed click-7.0 neobolt-1.7.15 neotime-1.7.4 prompt-toolkit-2.0.10 py2neo-4.3.0 pygments-2.3.1\n",
      "\u001b[33mYou are using pip version 10.0.1, however version 19.2.3 is available.\n",
      "You should consider upgrading via the 'pip install --upgrade pip' command.\u001b[0m\n"
     ]
    }
   ],
   "source": [
    "#! pip install py2neo;\n",
    "from py2neo import Graph\n",
    "import pandas as pd\n",
    "import matplotlib.pyplot as plt\n",
    "import networkx as nx\n",
    "import seaborn as sns\n",
    "import numpy as np\n"
   ]
  },
  {
   "cell_type": "code",
   "execution_count": 4,
   "metadata": {},
   "outputs": [],
   "source": [
    "graph = Graph(\"bolt://3.220.233.169:7687\", auth=(\"neo4j\", \"i-0e23d19f0d8795714\"))"
   ]
  },
  {
   "cell_type": "code",
   "execution_count": null,
   "metadata": {},
   "outputs": [],
   "source": []
  },
  {
   "cell_type": "code",
   "execution_count": 5,
   "metadata": {},
   "outputs": [],
   "source": [
    "user_id=195103\n",
    "biz_id=17"
   ]
  },
  {
   "cell_type": "code",
   "execution_count": 14,
   "metadata": {},
   "outputs": [],
   "source": [
    "def user_preference_dist(user_id ,biz_id):\n",
    "    \n",
    "    review_dist=graph.run(f\"\\\n",
    "    MATCH (u:User)-[:WROTE]->(r:Review)-[:REVIEWS]->(b:Business)\\\n",
    "    WHERE ID(u)={user_id} RETURN ID(r), r.stars, ID(b)\").to_data_frame()\n",
    "\n",
    "    biz_categories=graph.run(f\"\\\n",
    "    MATCH (b:Business)-[:IN_CATEGORY]->(c:Category)\\\n",
    "    WHERE ID(b)={biz_id} RETURN ID(c), c.id\").to_data_frame()\n",
    "\n",
    "    review_stars=review_dist['r.stars'].value_counts()\n",
    "    mean_review=review_dist['r.stars'].mean()\n",
    "    num_reviews=review_dist['r.stars'].shape[0]\n",
    "    cat_ids=list(biz_categories['ID(c)'])\n",
    "\n",
    "    biz_in_cat=[]\n",
    "    for cat in cat_ids:\n",
    "        temp=graph.run(f\"MATCH (b:Business)-[:IN_CATEGORY]->(c:Category)\\\n",
    "        WHERE ID(c)={cat} RETURN ID(b)\").to_series()\n",
    "        biz_in_cat.append(temp)\n",
    "\n",
    "    reviews_in_cat=[]\n",
    "    for i in range(len(biz_in_cat)):\n",
    "        #replace this with some sort of join, merge, intersection whatever with reivew dist and biz in cat\n",
    "        sim_biz = graph.run(f\"MATCH (u:User)-[:WROTE]->(r:Review)-[:REVIEWS]->(b:Business) WHERE ID(u)={user_id} and ID(b) IN {list(biz_in_cat[i])}\\\n",
    "        RETURN r.stars, ID(b)\").to_data_frame()\n",
    "        reviews_in_cat.append(sim_biz)\n",
    "\n",
    "    numerator=np.empty(5)\n",
    "    for i in (1,2,3,4,5):\n",
    "        try:\n",
    "            numerator[i-1]=review_stars[i]\n",
    "        except:\n",
    "            numerator[i-1]=0\n",
    "\n",
    "    PRu=(numerator+1)/(num_reviews+5)\n",
    "\n",
    "    num_cat=len(biz_in_cat)\n",
    "    cats_by_stars=np.empty((num_cat,5))\n",
    "\n",
    "    for i in range(num_cat):\n",
    "        cat_stars=reviews_in_cat[i]['r.stars'].value_counts()\n",
    "        for j in (1,2,3,4,5):\n",
    "            try:\n",
    "                cats_by_stars[i][j-1]=cat_stars[j]\n",
    "            except:\n",
    "                cats_by_stars[i][j-1]=0\n",
    "\n",
    "    PRaj=( (cats_by_stars+1) / (numerator+num_cat) ).prod(axis=0)\n",
    "\n",
    "    user_prefs_un_normalized=PRu*PRaj\n",
    "\n",
    "    user_prefs=user_prefs_un_normalized/sum(user_prefs_un_normalized)\n",
    "    \n",
    "    return user_prefs"
   ]
  },
  {
   "cell_type": "code",
   "execution_count": 15,
   "metadata": {},
   "outputs": [
    {
     "data": {
      "text/plain": [
       "array([0.07703953, 0.14791589, 0.15339426, 0.16101261, 0.46063772])"
      ]
     },
     "execution_count": 15,
     "metadata": {},
     "output_type": "execute_result"
    }
   ],
   "source": [
    "user_preference_dist(user_id, biz_id)"
   ]
  },
  {
   "cell_type": "code",
   "execution_count": null,
   "metadata": {},
   "outputs": [],
   "source": []
  }
 ],
 "metadata": {
  "kernelspec": {
   "display_name": "conda_python3",
   "language": "python",
   "name": "conda_python3"
  },
  "language_info": {
   "codemirror_mode": {
    "name": "ipython",
    "version": 3
   },
   "file_extension": ".py",
   "mimetype": "text/x-python",
   "name": "python",
   "nbconvert_exporter": "python",
   "pygments_lexer": "ipython3",
   "version": "3.6.5"
  }
 },
 "nbformat": 4,
 "nbformat_minor": 4
}
