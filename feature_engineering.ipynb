{
 "cells": [
  {
   "cell_type": "code",
   "execution_count": 130,
   "metadata": {},
   "outputs": [],
   "source": [
    "#! pip install py2neo;\n",
    "from py2neo import Graph\n",
    "import pandas as pd\n",
    "import matplotlib.pyplot as plt\n",
    "import networkx as nx\n",
    "import seaborn as sns\n",
    "import numpy as np\n"
   ]
  },
  {
   "cell_type": "code",
   "execution_count": 131,
   "metadata": {},
   "outputs": [],
   "source": [
    "graph = Graph(\"bolt://3.220.233.169:7687\", auth=(\"neo4j\", \"i-0e23d19f0d8795714\"))"
   ]
  },
  {
   "cell_type": "markdown",
   "metadata": {},
   "source": [
    "This is coding through one example prediction piece by piece so that I can refactor this code into prediction functions for arbitrary person and business"
   ]
  },
  {
   "cell_type": "markdown",
   "metadata": {},
   "source": [
    "id:195103, Chong. carlucciios tivoli gardens, id:17\n",
    "\n",
    "\n",
    "First phase is user preference. First step is getting number of reviews, average review score, and review score distribution"
   ]
  },
  {
   "cell_type": "code",
   "execution_count": 66,
   "metadata": {},
   "outputs": [],
   "source": [
    "review_dist=graph.run(\"\"\"\n",
    "MATCH (u:User)-[:WROTE]->(r:Review)\n",
    "WHERE ID(u)=195103\n",
    "RETURN ID(r), r.stars\n",
    "\"\"\").to_data_frame()"
   ]
  },
  {
   "cell_type": "code",
   "execution_count": 67,
   "metadata": {},
   "outputs": [],
   "source": [
    "review_stars=review_dist['r.stars'].value_counts()"
   ]
  },
  {
   "cell_type": "code",
   "execution_count": 68,
   "metadata": {},
   "outputs": [
    {
     "data": {
      "text/plain": [
       "4.0    18\n",
       "5.0    15\n",
       "3.0    13\n",
       "2.0     3\n",
       "Name: r.stars, dtype: int64"
      ]
     },
     "execution_count": 68,
     "metadata": {},
     "output_type": "execute_result"
    }
   ],
   "source": [
    "review_stars"
   ]
  },
  {
   "cell_type": "code",
   "execution_count": 129,
   "metadata": {},
   "outputs": [
    {
     "data": {
      "text/plain": [
       "3.9183673469387754"
      ]
     },
     "execution_count": 129,
     "metadata": {},
     "output_type": "execute_result"
    }
   ],
   "source": [
    "mean_review=review_dist['r.stars'].mean()\n",
    "mean_review"
   ]
  },
  {
   "cell_type": "code",
   "execution_count": 70,
   "metadata": {},
   "outputs": [],
   "source": [
    "num_reviews=review_dist['r.stars'].shape[0]"
   ]
  },
  {
   "cell_type": "code",
   "execution_count": 71,
   "metadata": {},
   "outputs": [],
   "source": [
    "tempdf=graph.run(\"\"\"\n",
    "MATCH (b:Business)-[:IN_CATEGORY]->(c:Category)\n",
    "WHERE ID(b)=17\n",
    "RETURN ID(c), c.id\n",
    "\"\"\").to_data_frame()"
   ]
  },
  {
   "cell_type": "code",
   "execution_count": 72,
   "metadata": {},
   "outputs": [
    {
     "data": {
      "text/html": [
       "<div>\n",
       "<style scoped>\n",
       "    .dataframe tbody tr th:only-of-type {\n",
       "        vertical-align: middle;\n",
       "    }\n",
       "\n",
       "    .dataframe tbody tr th {\n",
       "        vertical-align: top;\n",
       "    }\n",
       "\n",
       "    .dataframe thead th {\n",
       "        text-align: right;\n",
       "    }\n",
       "</style>\n",
       "<table border=\"1\" class=\"dataframe\">\n",
       "  <thead>\n",
       "    <tr style=\"text-align: right;\">\n",
       "      <th></th>\n",
       "      <th>ID(c)</th>\n",
       "      <th>c.id</th>\n",
       "    </tr>\n",
       "  </thead>\n",
       "  <tbody>\n",
       "    <tr>\n",
       "      <th>0</th>\n",
       "      <td>6003</td>\n",
       "      <td>Restaurants</td>\n",
       "    </tr>\n",
       "    <tr>\n",
       "      <th>1</th>\n",
       "      <td>6052</td>\n",
       "      <td>Italian</td>\n",
       "    </tr>\n",
       "  </tbody>\n",
       "</table>\n",
       "</div>"
      ],
      "text/plain": [
       "   ID(c)         c.id\n",
       "0   6003  Restaurants\n",
       "1   6052      Italian"
      ]
     },
     "execution_count": 72,
     "metadata": {},
     "output_type": "execute_result"
    }
   ],
   "source": [
    "tempdf"
   ]
  },
  {
   "cell_type": "code",
   "execution_count": 73,
   "metadata": {},
   "outputs": [],
   "source": [
    "cat_id=list(tempdf['ID(c)'])"
   ]
  },
  {
   "cell_type": "code",
   "execution_count": 74,
   "metadata": {},
   "outputs": [
    {
     "data": {
      "text/plain": [
       "[6003, 6052]"
      ]
     },
     "execution_count": 74,
     "metadata": {},
     "output_type": "execute_result"
    }
   ],
   "source": [
    "cat_id"
   ]
  },
  {
   "cell_type": "code",
   "execution_count": 75,
   "metadata": {},
   "outputs": [],
   "source": [
    "bizlist=[]\n",
    "for cat in cat_id:\n",
    "    temp=graph.run(f\"MATCH (b:Business)-[:IN_CATEGORY]->(c:Category)\\\n",
    "    WHERE ID(c)={cat} RETURN ID(b)\").to_series()\n",
    "    bizlist.append(temp)"
   ]
  },
  {
   "cell_type": "code",
   "execution_count": 103,
   "metadata": {},
   "outputs": [
    {
     "data": {
      "text/plain": [
       "[191757, 92280]"
      ]
     },
     "execution_count": 103,
     "metadata": {},
     "output_type": "execute_result"
    }
   ],
   "source": [
    "list(bizlist[1])[0:2]"
   ]
  },
  {
   "cell_type": "code",
   "execution_count": 77,
   "metadata": {},
   "outputs": [],
   "source": [
    "similar_biz=[]\n",
    "for i in range(len(bizlist)):\n",
    "    sim_biz = graph.run(f\"MATCH (u:User)-[:WROTE]->(r:Review)-[:REVIEWS]->(b:Business) WHERE ID(u)=195103 and ID(b) IN {list(bizlist[i])}\\\n",
    "    RETURN r.stars, ID(b)\").to_data_frame()\n",
    "    similar_biz.append(sim_biz)\n"
   ]
  },
  {
   "cell_type": "code",
   "execution_count": 78,
   "metadata": {},
   "outputs": [
    {
     "data": {
      "text/plain": [
       "[     ID(b)  r.stars\n",
       " 0    18179      3.0\n",
       " 1    20633      5.0\n",
       " 2    15420      5.0\n",
       " 3    20728      4.0\n",
       " 4    10924      4.0\n",
       " 5    33784      2.0\n",
       " 6    24002      3.0\n",
       " 7    33755      4.0\n",
       " 8    49324      3.0\n",
       " 9    57019      3.0\n",
       " 10   62704      5.0\n",
       " 11   91540      5.0\n",
       " 12   84569      4.0\n",
       " 13   91118      5.0\n",
       " 14  103683      5.0\n",
       " 15  114253      4.0\n",
       " 16   99165      3.0\n",
       " 17  113211      5.0\n",
       " 18  110749      4.0\n",
       " 19  122389      4.0\n",
       " 20  149120      4.0\n",
       " 21  144251      4.0\n",
       " 22  153199      3.0\n",
       " 23  151133      2.0\n",
       " 24  167760      4.0\n",
       " 25  159921      3.0\n",
       " 26  188708      5.0,     ID(b)  r.stars\n",
       " 0   62704      5.0\n",
       " 1  113211      5.0]"
      ]
     },
     "execution_count": 78,
     "metadata": {},
     "output_type": "execute_result"
    }
   ],
   "source": [
    "similar_biz"
   ]
  },
  {
   "cell_type": "code",
   "execution_count": 79,
   "metadata": {},
   "outputs": [
    {
     "data": {
      "text/plain": [
       "4.0    10\n",
       "5.0     8\n",
       "3.0     7\n",
       "2.0     2\n",
       "Name: r.stars, dtype: int64"
      ]
     },
     "execution_count": 79,
     "metadata": {},
     "output_type": "execute_result"
    }
   ],
   "source": [
    "similar_biz[0]['r.stars'].value_counts()"
   ]
  },
  {
   "cell_type": "code",
   "execution_count": 80,
   "metadata": {},
   "outputs": [
    {
     "data": {
      "text/plain": [
       "5.0    2\n",
       "Name: r.stars, dtype: int64"
      ]
     },
     "execution_count": 80,
     "metadata": {},
     "output_type": "execute_result"
    }
   ],
   "source": [
    "similar_biz[1]['r.stars'].value_counts()"
   ]
  },
  {
   "cell_type": "code",
   "execution_count": 92,
   "metadata": {},
   "outputs": [],
   "source": [
    "numerator=np.empty(5)\n",
    "for i in (1,2,3,4,5):\n",
    "    try:\n",
    "        numerator[i-1]=review_stars[i]\n",
    "    except:\n",
    "        numerator[i-1]=0\n"
   ]
  },
  {
   "cell_type": "code",
   "execution_count": 97,
   "metadata": {},
   "outputs": [],
   "source": [
    "PRu=(numerator+1)/(num_reviews+5)"
   ]
  },
  {
   "cell_type": "code",
   "execution_count": 119,
   "metadata": {},
   "outputs": [
    {
     "data": {
      "text/plain": [
       "array([[ 0.,  2.,  7., 10.,  8.],\n",
       "       [ 0.,  0.,  0.,  0.,  2.]])"
      ]
     },
     "execution_count": 119,
     "metadata": {},
     "output_type": "execute_result"
    }
   ],
   "source": [
    "num_cat=len(similar_biz)\n",
    "cats_by_stars=np.empty((num_cat,5))\n",
    "\n",
    "for i in range(num_cat):\n",
    "    cat_stars=similar_biz[i]['r.stars'].value_counts()\n",
    "    for j in (1,2,3,4,5):\n",
    "        try:\n",
    "            cats_by_stars[i][j-1]=cat_stars[j]\n",
    "        except:\n",
    "            cats_by_stars[i][j-1]=0\n",
    "\n",
    "cats_by_stars"
   ]
  },
  {
   "cell_type": "code",
   "execution_count": 122,
   "metadata": {},
   "outputs": [
    {
     "data": {
      "text/plain": [
       "array([0.25      , 0.12      , 0.03555556, 0.0275    , 0.09342561])"
      ]
     },
     "execution_count": 122,
     "metadata": {},
     "output_type": "execute_result"
    }
   ],
   "source": [
    "PRaj=( (cats_by_stars+1) / (numerator+num_cat) ).prod(axis=0)\n"
   ]
  },
  {
   "cell_type": "code",
   "execution_count": 126,
   "metadata": {},
   "outputs": [],
   "source": [
    "user_prefs_un_normalized=PRu*PRaj"
   ]
  },
  {
   "cell_type": "code",
   "execution_count": 127,
   "metadata": {},
   "outputs": [],
   "source": [
    "user_prefs=user_prefs_un_normalized/sum(user_prefs_un_normalized)"
   ]
  },
  {
   "cell_type": "code",
   "execution_count": 128,
   "metadata": {},
   "outputs": [
    {
     "data": {
      "text/plain": [
       "array([0.07703953, 0.14791589, 0.15339426, 0.16101261, 0.46063772])"
      ]
     },
     "execution_count": 128,
     "metadata": {},
     "output_type": "execute_result"
    }
   ],
   "source": [
    "user_prefs"
   ]
  },
  {
   "cell_type": "code",
   "execution_count": null,
   "metadata": {},
   "outputs": [],
   "source": []
  }
 ],
 "metadata": {
  "kernelspec": {
   "display_name": "conda_python3",
   "language": "python",
   "name": "conda_python3"
  },
  "language_info": {
   "codemirror_mode": {
    "name": "ipython",
    "version": 3
   },
   "file_extension": ".py",
   "mimetype": "text/x-python",
   "name": "python",
   "nbconvert_exporter": "python",
   "pygments_lexer": "ipython3",
   "version": "3.6.5"
  }
 },
 "nbformat": 4,
 "nbformat_minor": 4
}
