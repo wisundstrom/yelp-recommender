{
 "cells": [
  {
   "cell_type": "code",
   "execution_count": 3,
   "metadata": {},
   "outputs": [],
   "source": [
    "#!pip install neo4j\n",
    "import pandas as pd\n",
    "import numpy as np\n",
    "from neo4j import GraphDatabase\n",
    "import graph_model as gm\n",
    "from sklearn.metrics import mean_squared_error\n",
    "from math import sqrt\n",
    "\n",
    "np.set_printoptions(suppress=True)"
   ]
  },
  {
   "cell_type": "code",
   "execution_count": 88,
   "metadata": {},
   "outputs": [],
   "source": [
    "uri = \"bolt://3.220.233.169:7687\"\n",
    "driver = GraphDatabase.driver(uri, auth=(\"neo4j\", \"i-0e23d19f0d8795714\"))"
   ]
  },
  {
   "cell_type": "code",
   "execution_count": 9,
   "metadata": {},
   "outputs": [],
   "source": [
    "def cypher(driver, query, results_columns):\n",
    "    \"\"\"This is wrapper for sending basic cypher queries to a neo4j server. Input is a neo4j connection\n",
    "    driver, a string representing a cypher queryand a list of string for data frame column names.\n",
    "    returns the dataframe of the results.\"\"\"\n",
    "\n",
    "    with driver.session() as session:\n",
    "        result = session.run(query)\n",
    "\n",
    "    result_df = pd.DataFrame(result.values(), columns=results_columns)\n",
    "\n",
    "    return result_df\n",
    "\n",
    "\n",
    "def expected_rating(rating_dist):\n",
    "    \"\"\"this takes a distribution of probabilities by rating from one to five and returns the\n",
    "    expected value of the rating\"\"\"\n",
    "    runsum = 0\n",
    "    for i in [1, 2, 3, 4, 5]:\n",
    "        runsum += rating_dist[i - 1] * i\n",
    "    return runsum\n"
   ]
  },
  {
   "cell_type": "code",
   "execution_count": 56,
   "metadata": {},
   "outputs": [
    {
     "data": {
      "text/plain": [
       "Series([], Name: u.id, dtype: object)"
      ]
     },
     "execution_count": 56,
     "metadata": {},
     "output_type": "execute_result"
    }
   ],
   "source": [
    "review_dist[\"u.id\"]"
   ]
  },
  {
   "cell_type": "code",
   "execution_count": 37,
   "metadata": {},
   "outputs": [
    {
     "data": {
      "text/html": [
       "<div>\n",
       "<style scoped>\n",
       "    .dataframe tbody tr th:only-of-type {\n",
       "        vertical-align: middle;\n",
       "    }\n",
       "\n",
       "    .dataframe tbody tr th {\n",
       "        vertical-align: top;\n",
       "    }\n",
       "\n",
       "    .dataframe thead th {\n",
       "        text-align: right;\n",
       "    }\n",
       "</style>\n",
       "<table border=\"1\" class=\"dataframe\">\n",
       "  <thead>\n",
       "    <tr style=\"text-align: right;\">\n",
       "      <th></th>\n",
       "      <th>r.id</th>\n",
       "      <th>r.stars</th>\n",
       "      <th>u.id</th>\n",
       "    </tr>\n",
       "  </thead>\n",
       "  <tbody>\n",
       "  </tbody>\n",
       "</table>\n",
       "</div>"
      ],
      "text/plain": [
       "Empty DataFrame\n",
       "Columns: [r.id, r.stars, u.id]\n",
       "Index: []"
      ]
     },
     "execution_count": 37,
     "metadata": {},
     "output_type": "execute_result"
    }
   ],
   "source": [
    "['Restaurants','Sushi Bars','Japanese','Ramen']\n",
    "\n",
    "['5yZ1XmDcOEsElDeb9PlPDQ','PL3cimEUfNHlenOGSOAdJg','4n81G-pmC3rfhmaPsbwYKg','iwGhazq9eP51PSerTrMrwg','R3TC2oq8fQK9c9BNMZ-ynA']"
   ]
  },
  {
   "cell_type": "code",
   "execution_count": null,
   "metadata": {},
   "outputs": [],
   "source": [
    "MATCH (s:State)<--(:City)<--(b:Business)-->(c:Category)\n",
    "WHERE s.name=\"NV\" and c.id in [\"Japanese\",\" Sushi Bars\",\"Beer\", \" Bars\", \"American (Traditional)\", \" Wine & Spirits\", \"Sports Bars\", \"Nightlife\", \"Ramen\", \"Pubs\", \" Dive Bars\", \"Seafood\"]\n",
    "RETURN count(distinct b.id)"
   ]
  },
  {
   "cell_type": "code",
   "execution_count": 100,
   "metadata": {},
   "outputs": [],
   "source": [
    "def biz_preference_demo(driver, user_cat_ids, biz_id, state):\n",
    "\n",
    "    # send a cypher query to the server that returns reviews of biz by people\n",
    "    # in state\n",
    "    review_dist = cypher(\n",
    "        driver,\n",
    "        f\"MATCH (u:User)-[:WROTE]->(r:Review)-[:REVIEWS]->(b:Business)-->(:City)-->(s:State)\\\n",
    "        WHERE b.id='{biz_id}' AND s.name='{state}'\\\n",
    "        RETURN r.id, r.stars, u.id LIMIT 300\",\n",
    "        [\n",
    "            'r.id',\n",
    "            'r.stars',\n",
    "            'u.id'])\n",
    "    \n",
    "    print(review_dist.shape)\n",
    "    review_stars = review_dist['r.stars'].value_counts()\n",
    "    num_reviews = review_dist['r.stars'].shape[0]\n",
    "    \n",
    "\n",
    "    # we initialize a blank list of users in the user categories\n",
    "    user_in_cat = []\n",
    "\n",
    "    for cat in user_cat_ids:\n",
    "        # this loop sends a crypher query to retreive users in each category in\n",
    "        # the state\n",
    "        temp = cypher(\n",
    "            driver,\n",
    "            f'MATCH (u:User)-[]->(r:Reputation)\\\n",
    "            WHERE r.id =\"{cat}\" and u.id IN {list(review_dist[\"u.id\"])}\\\n",
    "            RETURN u.id LIMIT 50',\n",
    "            ['u.id'])\n",
    "        user_in_cat.append(temp)\n",
    "        print(temp.shape)\n",
    "    \n",
    "        \n",
    "    reviews_in_cat = []\n",
    "    for i in range(len(user_in_cat)):\n",
    "        # this loop goes through each user category and sends a cypher query to get the reviews of\n",
    "        # the business from users in the category\n",
    "\n",
    "        sim_user = cypher(\n",
    "            driver, f'MATCH (u:User)-[:WROTE]->(r:Review)-[:REVIEWS]->(b:Business)-->(:City)-->(s:State)\\\n",
    "            WHERE s.name= \"{state}\" and b.id = \"{biz_id}\" and u.id IN {list(user_in_cat[i][\"u.id\"])}\\\n",
    "            RETURN r.stars, u.id', ['r.stars', 'u.id'])\n",
    "        reviews_in_cat.append(sim_user)\n",
    "        \n",
    "    \n",
    "    # this loop and PRu below uses laplace smoothing and the distribution of biz reviews\n",
    "    # to come up with naive bayes estimated probability distribution,\n",
    "    # prob(review of biz = k)\n",
    "    numerator = np.empty(5)\n",
    "    for i in (1, 2, 3, 4, 5):\n",
    "        try:\n",
    "            numerator[i - 1] = review_stars[i]\n",
    "        except BaseException:\n",
    "            numerator[i - 1] = 0\n",
    "\n",
    "    PRu = (numerator + 1) / (num_reviews + 5)\n",
    "\n",
    "    # the code below uses laplace smoothing and the distribution of the biz reviews to come up with\n",
    "    # a naive bayes estimate of the distribution (prob review of biz=k|given\n",
    "    # reviewer in category j)\n",
    "    num_cat = len(user_in_cat)\n",
    "    cats_by_stars = np.empty((num_cat, 5))\n",
    "\n",
    "    for i in range(num_cat):\n",
    "        if not reviews_in_cat[i].empty:\n",
    "            cat_stars = reviews_in_cat[i]['r.stars'].value_counts()\n",
    "            for j in (1, 2, 3, 4, 5):\n",
    "                try:\n",
    "                    cats_by_stars[i][j - 1] = cat_stars[j]\n",
    "                except BaseException:\n",
    "                    cats_by_stars[i][j - 1] = 0\n",
    "\n",
    "        else:\n",
    "            # If there are no users in a category we use the review\n",
    "            # distribution without the conditional\n",
    "\n",
    "            for j in (1, 2, 3, 4, 5):\n",
    "                try:\n",
    "                    cats_by_stars[i][j - 1] = review_stars[j]\n",
    "                except BaseException:\n",
    "                    cats_by_stars[i][j - 1] = 0\n",
    "\n",
    "    PRaj = ((cats_by_stars + 1) / (numerator + num_cat)).prod(axis=0)\n",
    "\n",
    "    # we now take the product of the distributions and normalize them so they\n",
    "    # sum to 1\n",
    "    biz_prefs_un_normalized = PRu * PRaj\n",
    "\n",
    "    biz_prefs = biz_prefs_un_normalized/sum(biz_prefs_un_normalized)\n",
    "\n",
    "    return biz_prefs"
   ]
  },
  {
   "cell_type": "code",
   "execution_count": 36,
   "metadata": {},
   "outputs": [
    {
     "data": {
      "text/html": [
       "<div>\n",
       "<style scoped>\n",
       "    .dataframe tbody tr th:only-of-type {\n",
       "        vertical-align: middle;\n",
       "    }\n",
       "\n",
       "    .dataframe tbody tr th {\n",
       "        vertical-align: top;\n",
       "    }\n",
       "\n",
       "    .dataframe thead th {\n",
       "        text-align: right;\n",
       "    }\n",
       "</style>\n",
       "<table border=\"1\" class=\"dataframe\">\n",
       "  <thead>\n",
       "    <tr style=\"text-align: right;\">\n",
       "      <th></th>\n",
       "      <th>b.id</th>\n",
       "      <th>r.stars</th>\n",
       "      <th>cats</th>\n",
       "    </tr>\n",
       "  </thead>\n",
       "  <tbody>\n",
       "    <tr>\n",
       "      <th>0</th>\n",
       "      <td>5yZ1XmDcOEsElDeb9PlPDQ</td>\n",
       "      <td>1</td>\n",
       "      <td>[Restaurants, Japanese, Ramen]</td>\n",
       "    </tr>\n",
       "    <tr>\n",
       "      <th>1</th>\n",
       "      <td>PL3cimEUfNHlenOGSOAdJg</td>\n",
       "      <td>1</td>\n",
       "      <td>[Japanese,  Sushi Bars, Restaurants]</td>\n",
       "    </tr>\n",
       "    <tr>\n",
       "      <th>2</th>\n",
       "      <td>4n81G-pmC3rfhmaPsbwYKg</td>\n",
       "      <td>1</td>\n",
       "      <td>[Restaurants, Food, Beer,  Bars, American (Traditional),  Wine &amp; Spirits, Sports Bars, Nightlife]</td>\n",
       "    </tr>\n",
       "    <tr>\n",
       "      <th>3</th>\n",
       "      <td>iwGhazq9eP51PSerTrMrwg</td>\n",
       "      <td>1</td>\n",
       "      <td>[ Bars,  Wine &amp; Spirits, Restaurants, American (Traditional), Nightlife, Food, Pubs, Beer,  Dive Bars]</td>\n",
       "    </tr>\n",
       "    <tr>\n",
       "      <th>4</th>\n",
       "      <td>R3TC2oq8fQK9c9BNMZ-ynA</td>\n",
       "      <td>1</td>\n",
       "      <td>[ Bars, Seafood,  Sushi Bars, Nightlife, Restaurants, Japanese]</td>\n",
       "    </tr>\n",
       "  </tbody>\n",
       "</table>\n",
       "</div>"
      ],
      "text/plain": [
       "                     b.id  r.stars  \\\n",
       "0  5yZ1XmDcOEsElDeb9PlPDQ  1         \n",
       "1  PL3cimEUfNHlenOGSOAdJg  1         \n",
       "2  4n81G-pmC3rfhmaPsbwYKg  1         \n",
       "3  iwGhazq9eP51PSerTrMrwg  1         \n",
       "4  R3TC2oq8fQK9c9BNMZ-ynA  1         \n",
       "\n",
       "                                                                                                     cats  \n",
       "0  [Restaurants, Japanese, Ramen]                                                                          \n",
       "1  [Japanese,  Sushi Bars, Restaurants]                                                                    \n",
       "2  [Restaurants, Food, Beer,  Bars, American (Traditional),  Wine & Spirits, Sports Bars, Nightlife]       \n",
       "3  [ Bars,  Wine & Spirits, Restaurants, American (Traditional), Nightlife, Food, Pubs, Beer,  Dive Bars]  \n",
       "4  [ Bars, Seafood,  Sushi Bars, Nightlife, Restaurants, Japanese]                                         "
      ]
     },
     "execution_count": 36,
     "metadata": {},
     "output_type": "execute_result"
    }
   ],
   "source": [
    "pd.set_option('max_colwidth', -1)\n",
    "ratingslist"
   ]
  },
  {
   "cell_type": "code",
   "execution_count": 97,
   "metadata": {},
   "outputs": [],
   "source": [
    "up=user_preference_demo(driver, ratingslist, 'Os1n1_idfw9vv9kwULGJnQ')"
   ]
  },
  {
   "cell_type": "code",
   "execution_count": 101,
   "metadata": {},
   "outputs": [
    {
     "name": "stdout",
     "output_type": "stream",
     "text": [
      "(300, 3)\n",
      "(38, 1)\n",
      "(15, 1)\n",
      "(46, 1)\n"
     ]
    }
   ],
   "source": [
    "bp=biz_preference_demo(driver, ['cool1','useful1','funny1'], 'Os1n1_idfw9vv9kwULGJnQ', 'NV')"
   ]
  },
  {
   "cell_type": "code",
   "execution_count": 102,
   "metadata": {},
   "outputs": [
    {
     "data": {
      "text/plain": [
       "(array([0.22778281, 0.02881675, 0.00341197, 0.1709593 , 0.56902917]),\n",
       " array([0.74611399, 0.0634715 , 0.0634715 , 0.0634715 , 0.0634715 ]))"
      ]
     },
     "execution_count": 102,
     "metadata": {},
     "output_type": "execute_result"
    }
   ],
   "source": [
    "bp,up"
   ]
  },
  {
   "cell_type": "code",
   "execution_count": 34,
   "metadata": {},
   "outputs": [
    {
     "data": {
      "text/plain": [
       "(1.6347150259067356, 3.8246352785126847)"
      ]
     },
     "execution_count": 34,
     "metadata": {},
     "output_type": "execute_result"
    }
   ],
   "source": [
    "expected_rating(up),expected_rating(bp)"
   ]
  },
  {
   "cell_type": "code",
   "execution_count": 28,
   "metadata": {},
   "outputs": [
    {
     "data": {
      "text/plain": [
       "(array([0.77615773, 0.0083531 , 0.00098903, 0.0495559 , 0.16494425]),\n",
       " 1.8187758442720459)"
      ]
     },
     "execution_count": 28,
     "metadata": {},
     "output_type": "execute_result"
    }
   ],
   "source": [
    "joint_prob=up*bp/sum(up*bp)\n",
    "joint_prob, expected_rating(joint_prob)"
   ]
  },
  {
   "cell_type": "code",
   "execution_count": null,
   "metadata": {},
   "outputs": [],
   "source": []
  },
  {
   "cell_type": "code",
   "execution_count": 76,
   "metadata": {},
   "outputs": [
    {
     "data": {
      "text/html": [
       "<div>\n",
       "<style scoped>\n",
       "    .dataframe tbody tr th:only-of-type {\n",
       "        vertical-align: middle;\n",
       "    }\n",
       "\n",
       "    .dataframe tbody tr th {\n",
       "        vertical-align: top;\n",
       "    }\n",
       "\n",
       "    .dataframe thead th {\n",
       "        text-align: right;\n",
       "    }\n",
       "</style>\n",
       "<table border=\"1\" class=\"dataframe\">\n",
       "  <thead>\n",
       "    <tr style=\"text-align: right;\">\n",
       "      <th></th>\n",
       "      <th>b.id</th>\n",
       "      <th>r.stars</th>\n",
       "    </tr>\n",
       "  </thead>\n",
       "  <tbody>\n",
       "    <tr>\n",
       "      <th>0</th>\n",
       "      <td>5yZ1XmDcOEsElDeb9PlPDQ</td>\n",
       "      <td>1</td>\n",
       "    </tr>\n",
       "    <tr>\n",
       "      <th>1</th>\n",
       "      <td>PL3cimEUfNHlenOGSOAdJg</td>\n",
       "      <td>1</td>\n",
       "    </tr>\n",
       "    <tr>\n",
       "      <th>2</th>\n",
       "      <td>4n81G-pmC3rfhmaPsbwYKg</td>\n",
       "      <td>1</td>\n",
       "    </tr>\n",
       "    <tr>\n",
       "      <th>3</th>\n",
       "      <td>iwGhazq9eP51PSerTrMrwg</td>\n",
       "      <td>1</td>\n",
       "    </tr>\n",
       "    <tr>\n",
       "      <th>4</th>\n",
       "      <td>R3TC2oq8fQK9c9BNMZ-ynA</td>\n",
       "      <td>1</td>\n",
       "    </tr>\n",
       "  </tbody>\n",
       "</table>\n",
       "</div>"
      ],
      "text/plain": [
       "                     b.id  r.stars\n",
       "0  5yZ1XmDcOEsElDeb9PlPDQ  1      \n",
       "1  PL3cimEUfNHlenOGSOAdJg  1      \n",
       "2  4n81G-pmC3rfhmaPsbwYKg  1      \n",
       "3  iwGhazq9eP51PSerTrMrwg  1      \n",
       "4  R3TC2oq8fQK9c9BNMZ-ynA  1      "
      ]
     },
     "execution_count": 76,
     "metadata": {},
     "output_type": "execute_result"
    }
   ],
   "source": [
    "review_dist =pd.DataFrame({\"b.id\":['5yZ1XmDcOEsElDeb9PlPDQ','PL3cimEUfNHlenOGSOAdJg','4n81G-pmC3rfhmaPsbwYKg','iwGhazq9eP51PSerTrMrwg','R3TC2oq8fQK9c9BNMZ-ynA']})\n",
    "review_dist[\"r.stars\"]=[1,1,1,1,1]\n",
    "review_dist"
   ]
  },
  {
   "cell_type": "code",
   "execution_count": 95,
   "metadata": {},
   "outputs": [],
   "source": [
    "def user_preference_demo(driver, review_dist, biz_id):\n",
    "\n",
    "    # send a cypher query to the server that returns all of the biz's\n",
    "    # categories\n",
    "    biz_categories = cypher(driver, f\"\\\n",
    "    MATCH (b:Business)-[:IN_CATEGORY]->(c:Category) \\\n",
    "    WHERE b.id='{biz_id}' RETURN c.id\", ['c.id'])\n",
    "\n",
    "    # these manipulate the biz categories and user's reviews for computation\n",
    "    # later\n",
    "    review_stars = review_dist['r.stars'].value_counts()\n",
    "    num_reviews = review_dist['r.stars'].shape[0]\n",
    "    cat_ids = list(biz_categories['c.id'])\n",
    "    \n",
    "    \n",
    "    \n",
    "    # we initialize a blank list of businesses in the biz categories\n",
    "    biz_in_cat = []\n",
    "    for cat in cat_ids:\n",
    "        temp=[]\n",
    "        for i in range(5):\n",
    "            if cat in review_dist['cats'].iloc[i]:\n",
    "                temp.append(review_dist['b.id'].iloc[i])\n",
    "        if temp:\n",
    "            biz_in_cat.append(temp)\n",
    "        \n",
    "    \n",
    "    reviews_in_cat = []\n",
    "    \n",
    "    for i in range(len(biz_in_cat)):\n",
    "        # this loop goes through each biz category and sends a cypher query to get the reviews of\n",
    "        # businesses in that category by the user\n",
    "        sim_biz = []\n",
    "        \n",
    "        for temp_biz in biz_in_cat[i]:\n",
    "#             temp_biz=biz_in_cat[i][j]\n",
    "            temp_rev=review_dist.loc[review_dist['b.id']==temp_biz]\n",
    "            \n",
    "            sim_biz.append(int(temp_rev['r.stars']))\n",
    "\n",
    "        \n",
    "        reviews_in_cat.append(pd.DataFrame(sim_biz, columns=['r.stars']))\n",
    "    #print(reviews_in_cat)\n",
    "    # this loop and PRu below uses laplace smoothing and the distribution of user's reviews\n",
    "    # to come up with naive bayes estimated probability distribution,\n",
    "    # prob(review from user = k)\n",
    "    numerator = np.empty(5)\n",
    "    for i in (1, 2, 3, 4, 5):\n",
    "        try:\n",
    "            numerator[i - 1] = review_stars[i]\n",
    "            \n",
    "        except BaseException:\n",
    "            numerator[i - 1] = 0\n",
    "    \n",
    "    PRu = (numerator + 1) / (num_reviews + 5)\n",
    "\n",
    "    # the code below uses laplace smoothing and the distribution of the biz reviews to come up with\n",
    "    # a naive bayes estimate of the distribution (prob review from user =\n",
    "    # k|given biz in category j)\n",
    "    num_cat = len(biz_in_cat)\n",
    "    cats_by_stars = np.empty((num_cat, 5))\n",
    "    #print(reviews_in_cat)\n",
    "    for i in range(num_cat):\n",
    "        if not reviews_in_cat[i].empty:\n",
    "            cat_stars = reviews_in_cat[i]['r.stars'].value_counts()\n",
    "            #print(cat_stars)\n",
    "            for j in (1, 2, 3, 4, 5):\n",
    "                try:\n",
    "                    cats_by_stars[i][j - 1] = cat_stars[j]\n",
    "                except BaseException:\n",
    "                    cats_by_stars[i][j - 1] = 0\n",
    "        else:\n",
    "            # If there are no businesses in a category we use the review\n",
    "            # distribution without the conditional\n",
    "            for j in (1, 2, 3, 4, 5):\n",
    "                try:\n",
    "                    cats_by_stars[i][j - 1] = 3\n",
    "                except BaseException:\n",
    "                    cats_by_stars[i][j - 1] = 0\n",
    "\n",
    "    PRaj = ((cats_by_stars + 1) / (numerator + num_cat)).prod(axis=0)\n",
    "\n",
    "    # we now take the product of the distributions and normalize them so they\n",
    "    # sum to 1\n",
    "    user_prefs_un_normalized = PRu * PRaj\n",
    "\n",
    "    user_prefs = user_prefs_un_normalized / sum(user_prefs_un_normalized)\n",
    "\n",
    "    return user_prefs\n"
   ]
  },
  {
   "cell_type": "code",
   "execution_count": 13,
   "metadata": {},
   "outputs": [
    {
     "data": {
      "text/html": [
       "<div>\n",
       "<style scoped>\n",
       "    .dataframe tbody tr th:only-of-type {\n",
       "        vertical-align: middle;\n",
       "    }\n",
       "\n",
       "    .dataframe tbody tr th {\n",
       "        vertical-align: top;\n",
       "    }\n",
       "\n",
       "    .dataframe thead th {\n",
       "        text-align: right;\n",
       "    }\n",
       "</style>\n",
       "<table border=\"1\" class=\"dataframe\">\n",
       "  <thead>\n",
       "    <tr style=\"text-align: right;\">\n",
       "      <th></th>\n",
       "      <th>b.id</th>\n",
       "      <th>cats</th>\n",
       "    </tr>\n",
       "  </thead>\n",
       "  <tbody>\n",
       "    <tr>\n",
       "      <th>0</th>\n",
       "      <td>PL3cimEUfNHlenOGSOAdJg</td>\n",
       "      <td>[Japanese,  Sushi Bars, Restaurants]</td>\n",
       "    </tr>\n",
       "    <tr>\n",
       "      <th>1</th>\n",
       "      <td>4n81G-pmC3rfhmaPsbwYKg</td>\n",
       "      <td>[Restaurants, Food, Beer,  Bars, American (Tra...</td>\n",
       "    </tr>\n",
       "    <tr>\n",
       "      <th>2</th>\n",
       "      <td>5yZ1XmDcOEsElDeb9PlPDQ</td>\n",
       "      <td>[Restaurants, Japanese, Ramen]</td>\n",
       "    </tr>\n",
       "    <tr>\n",
       "      <th>3</th>\n",
       "      <td>iwGhazq9eP51PSerTrMrwg</td>\n",
       "      <td>[ Bars,  Wine &amp; Spirits, Restaurants, American...</td>\n",
       "    </tr>\n",
       "    <tr>\n",
       "      <th>4</th>\n",
       "      <td>R3TC2oq8fQK9c9BNMZ-ynA</td>\n",
       "      <td>[ Bars, Seafood,  Sushi Bars, Nightlife, Resta...</td>\n",
       "    </tr>\n",
       "  </tbody>\n",
       "</table>\n",
       "</div>"
      ],
      "text/plain": [
       "                     b.id                                               cats\n",
       "0  PL3cimEUfNHlenOGSOAdJg               [Japanese,  Sushi Bars, Restaurants]\n",
       "1  4n81G-pmC3rfhmaPsbwYKg  [Restaurants, Food, Beer,  Bars, American (Tra...\n",
       "2  5yZ1XmDcOEsElDeb9PlPDQ                     [Restaurants, Japanese, Ramen]\n",
       "3  iwGhazq9eP51PSerTrMrwg  [ Bars,  Wine & Spirits, Restaurants, American...\n",
       "4  R3TC2oq8fQK9c9BNMZ-ynA  [ Bars, Seafood,  Sushi Bars, Nightlife, Resta..."
      ]
     },
     "execution_count": 13,
     "metadata": {},
     "output_type": "execute_result"
    }
   ],
   "source": [
    "demo_revs_by_cat=cypher(driver, \"\\\n",
    "MATCH (b:Business)-[:IN_CATEGORY]->(c:Category)\\\n",
    "WHERE b.id in ['5yZ1XmDcOEsElDeb9PlPDQ','PL3cimEUfNHlenOGSOAdJg','4n81G-pmC3rfhmaPsbwYKg','iwGhazq9eP51PSerTrMrwg','R3TC2oq8fQK9c9BNMZ-ynA']\\\n",
    "RETURN b.id, collect(c.id)\", ['b.id', 'cats'])\n",
    "\n",
    "demo_revs_by_cat"
   ]
  },
  {
   "cell_type": "code",
   "execution_count": 14,
   "metadata": {},
   "outputs": [],
   "source": [
    "ratingslist=review_dist.merge(demo_revs_by_cat, on='b.id')"
   ]
  },
  {
   "cell_type": "code",
   "execution_count": 64,
   "metadata": {},
   "outputs": [
    {
     "name": "stdout",
     "output_type": "stream",
     "text": [
      "5yZ1XmDcOEsElDeb9PlPDQ\n",
      "PL3cimEUfNHlenOGSOAdJg\n",
      "R3TC2oq8fQK9c9BNMZ-ynA\n"
     ]
    }
   ],
   "source": [
    "for i in range(5):\n",
    "    if 'Japanese' in ratingslist['cats'].iloc[i]:\n",
    "        print(ratingslist['b.id'].iloc[i])\n",
    "    "
   ]
  },
  {
   "cell_type": "code",
   "execution_count": 106,
   "metadata": {},
   "outputs": [
    {
     "data": {
      "text/html": [
       "<div>\n",
       "<style scoped>\n",
       "    .dataframe tbody tr th:only-of-type {\n",
       "        vertical-align: middle;\n",
       "    }\n",
       "\n",
       "    .dataframe tbody tr th {\n",
       "        vertical-align: top;\n",
       "    }\n",
       "\n",
       "    .dataframe thead th {\n",
       "        text-align: right;\n",
       "    }\n",
       "</style>\n",
       "<table border=\"1\" class=\"dataframe\">\n",
       "  <thead>\n",
       "    <tr style=\"text-align: right;\">\n",
       "      <th></th>\n",
       "      <th>b.id</th>\n",
       "      <th>r.stars</th>\n",
       "      <th>cats</th>\n",
       "    </tr>\n",
       "  </thead>\n",
       "  <tbody>\n",
       "    <tr>\n",
       "      <th>0</th>\n",
       "      <td>5yZ1XmDcOEsElDeb9PlPDQ</td>\n",
       "      <td>5</td>\n",
       "      <td>[Restaurants, Japanese, Ramen]</td>\n",
       "    </tr>\n",
       "    <tr>\n",
       "      <th>1</th>\n",
       "      <td>PL3cimEUfNHlenOGSOAdJg</td>\n",
       "      <td>5</td>\n",
       "      <td>[Japanese,  Sushi Bars, Restaurants]</td>\n",
       "    </tr>\n",
       "    <tr>\n",
       "      <th>2</th>\n",
       "      <td>4n81G-pmC3rfhmaPsbwYKg</td>\n",
       "      <td>2</td>\n",
       "      <td>[Restaurants, Food, Beer,  Bars, American (Tra...</td>\n",
       "    </tr>\n",
       "    <tr>\n",
       "      <th>3</th>\n",
       "      <td>iwGhazq9eP51PSerTrMrwg</td>\n",
       "      <td>2</td>\n",
       "      <td>[ Bars,  Wine &amp; Spirits, Restaurants, American...</td>\n",
       "    </tr>\n",
       "    <tr>\n",
       "      <th>4</th>\n",
       "      <td>R3TC2oq8fQK9c9BNMZ-ynA</td>\n",
       "      <td>5</td>\n",
       "      <td>[ Bars, Seafood,  Sushi Bars, Nightlife, Resta...</td>\n",
       "    </tr>\n",
       "  </tbody>\n",
       "</table>\n",
       "</div>"
      ],
      "text/plain": [
       "                     b.id  r.stars  \\\n",
       "0  5yZ1XmDcOEsElDeb9PlPDQ        5   \n",
       "1  PL3cimEUfNHlenOGSOAdJg        5   \n",
       "2  4n81G-pmC3rfhmaPsbwYKg        2   \n",
       "3  iwGhazq9eP51PSerTrMrwg        2   \n",
       "4  R3TC2oq8fQK9c9BNMZ-ynA        5   \n",
       "\n",
       "                                                cats  \n",
       "0                     [Restaurants, Japanese, Ramen]  \n",
       "1               [Japanese,  Sushi Bars, Restaurants]  \n",
       "2  [Restaurants, Food, Beer,  Bars, American (Tra...  \n",
       "3  [ Bars,  Wine & Spirits, Restaurants, American...  \n",
       "4  [ Bars, Seafood,  Sushi Bars, Nightlife, Resta...  "
      ]
     },
     "execution_count": 106,
     "metadata": {},
     "output_type": "execute_result"
    }
   ],
   "source": [
    "ratingslist"
   ]
  },
  {
   "cell_type": "code",
   "execution_count": null,
   "metadata": {},
   "outputs": [],
   "source": []
  }
 ],
 "metadata": {
  "kernelspec": {
   "display_name": "conda_python3",
   "language": "python",
   "name": "conda_python3"
  },
  "language_info": {
   "codemirror_mode": {
    "name": "ipython",
    "version": 3
   },
   "file_extension": ".py",
   "mimetype": "text/x-python",
   "name": "python",
   "nbconvert_exporter": "python",
   "pygments_lexer": "ipython3",
   "version": "3.6.5"
  }
 },
 "nbformat": 4,
 "nbformat_minor": 4
}
