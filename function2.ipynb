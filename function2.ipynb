{
 "cells": [
  {
   "cell_type": "code",
   "execution_count": 9,
   "metadata": {},
   "outputs": [],
   "source": [
    "#!pip install neo4j\n",
    "import pandas as pd\n",
    "import numpy as np\n",
    "from neo4j import GraphDatabase\n",
    "import graph_model as gm\n",
    "np.set_printoptions(suppress=True)"
   ]
  },
  {
   "cell_type": "code",
   "execution_count": 10,
   "metadata": {},
   "outputs": [],
   "source": [
    "uri = \"bolt://3.220.233.169:7687\"\n",
    "driver = GraphDatabase.driver(uri, auth=(\"neo4j\", \"i-0e23d19f0d8795714\"))"
   ]
  },
  {
   "cell_type": "code",
   "execution_count": null,
   "metadata": {},
   "outputs": [],
   "source": [
    "gm.graph_model_predict(driver, 'YQwAvXUkeUpBat32FU_4eQ', '_CEo5qKtrYIOH6BTxnQWHQ','PA')"
   ]
  },
  {
   "cell_type": "code",
   "execution_count": 3,
   "metadata": {},
   "outputs": [
    {
     "data": {
      "text/plain": [
       "array([0.00014861, 0.01494001, 0.80208579, 0.16788557, 0.01494001])"
      ]
     },
     "execution_count": 3,
     "metadata": {},
     "output_type": "execute_result"
    }
   ],
   "source": [
    "gm.user_preference(driver, 'YQwAvXUkeUpBat32FU_4eQ', '_CEo5qKtrYIOH6BTxnQWHQ')"
   ]
  },
  {
   "cell_type": "code",
   "execution_count": null,
   "metadata": {},
   "outputs": [],
   "source": [
    "gm.biz_preference(driver, 'YQwAvXUkeUpBat32FU_4eQ', '_CEo5qKtrYIOH6BTxnQWHQ')"
   ]
  },
  {
   "cell_type": "code",
   "execution_count": 3,
   "metadata": {},
   "outputs": [],
   "source": [
    "pa_reviews=pd.read_pickle('PA_reviews')"
   ]
  },
  {
   "cell_type": "code",
   "execution_count": 5,
   "metadata": {},
   "outputs": [],
   "source": [
    "test_sample=pa_reviews.sample(100)"
   ]
  },
  {
   "cell_type": "code",
   "execution_count": 6,
   "metadata": {},
   "outputs": [
    {
     "data": {
      "text/html": [
       "<div>\n",
       "<style scoped>\n",
       "    .dataframe tbody tr th:only-of-type {\n",
       "        vertical-align: middle;\n",
       "    }\n",
       "\n",
       "    .dataframe tbody tr th {\n",
       "        vertical-align: top;\n",
       "    }\n",
       "\n",
       "    .dataframe thead th {\n",
       "        text-align: right;\n",
       "    }\n",
       "</style>\n",
       "<table border=\"1\" class=\"dataframe\">\n",
       "  <thead>\n",
       "    <tr style=\"text-align: right;\">\n",
       "      <th></th>\n",
       "      <th>userID</th>\n",
       "      <th>rating</th>\n",
       "      <th>itemID</th>\n",
       "    </tr>\n",
       "  </thead>\n",
       "  <tbody>\n",
       "    <tr>\n",
       "      <th>259986</th>\n",
       "      <td>jJV8iMLq-hg0-Cdxgfa0WA</td>\n",
       "      <td>5.0</td>\n",
       "      <td>hsRjct8UiUHU54B983GmcA</td>\n",
       "    </tr>\n",
       "    <tr>\n",
       "      <th>195918</th>\n",
       "      <td>nRXOxMrr19AP8P_fYA9RTw</td>\n",
       "      <td>2.0</td>\n",
       "      <td>CwcDRtNgjgM4pLS4o63g6A</td>\n",
       "    </tr>\n",
       "    <tr>\n",
       "      <th>139838</th>\n",
       "      <td>F58wGIoXK-FPLb9YrSA9SQ</td>\n",
       "      <td>1.0</td>\n",
       "      <td>9IhBQ7mTYajCQtIrEjv5KQ</td>\n",
       "    </tr>\n",
       "    <tr>\n",
       "      <th>248958</th>\n",
       "      <td>6Ki3bAL0wx9ymbdJqbSWMA</td>\n",
       "      <td>3.0</td>\n",
       "      <td>MyITm7hhBUqRmz2PqlfhOw</td>\n",
       "    </tr>\n",
       "    <tr>\n",
       "      <th>277677</th>\n",
       "      <td>cA8_7apjrrZouRuVwNZgFQ</td>\n",
       "      <td>5.0</td>\n",
       "      <td>hzumXofKoqICLsHETI1LAA</td>\n",
       "    </tr>\n",
       "  </tbody>\n",
       "</table>\n",
       "</div>"
      ],
      "text/plain": [
       "                        userID  rating                  itemID\n",
       "259986  jJV8iMLq-hg0-Cdxgfa0WA     5.0  hsRjct8UiUHU54B983GmcA\n",
       "195918  nRXOxMrr19AP8P_fYA9RTw     2.0  CwcDRtNgjgM4pLS4o63g6A\n",
       "139838  F58wGIoXK-FPLb9YrSA9SQ     1.0  9IhBQ7mTYajCQtIrEjv5KQ\n",
       "248958  6Ki3bAL0wx9ymbdJqbSWMA     3.0  MyITm7hhBUqRmz2PqlfhOw\n",
       "277677  cA8_7apjrrZouRuVwNZgFQ     5.0  hzumXofKoqICLsHETI1LAA"
      ]
     },
     "execution_count": 6,
     "metadata": {},
     "output_type": "execute_result"
    }
   ],
   "source": [
    "test_sample.head()"
   ]
  },
  {
   "cell_type": "code",
   "execution_count": null,
   "metadata": {},
   "outputs": [],
   "source": [
    "test_sample['prediction']=[gm.graph_model_predict(driver, x , y ,'PA') for x,y in zip(test_sample['userID'], test_sample['itemID'])]"
   ]
  },
  {
   "cell_type": "code",
   "execution_count": null,
   "metadata": {},
   "outputs": [],
   "source": []
  },
  {
   "cell_type": "code",
   "execution_count": null,
   "metadata": {},
   "outputs": [],
   "source": []
  },
  {
   "cell_type": "code",
   "execution_count": null,
   "metadata": {},
   "outputs": [],
   "source": []
  },
  {
   "cell_type": "code",
   "execution_count": 15,
   "metadata": {},
   "outputs": [],
   "source": [
    "olduser_id=195103\n",
    "oldbiz_id=17\n",
    "\n",
    "user_id='JSrP-dUmLlwZiI7Dp3PQ2A'\n",
    "biz_id='PZ-LZzSlhSe9utkQYU8pFg'"
   ]
  },
  {
   "cell_type": "code",
   "execution_count": 5,
   "metadata": {},
   "outputs": [],
   "source": [
    "def cypher(driver, query, results_columns):\n",
    "    \"\"\"input is a neo4j connection driver, a string representing a cypher query\n",
    "    and a list of string for data frame column names. returns the dataframe of the results.\"\"\"\n",
    "    \n",
    "    with driver.session() as session:\n",
    "        result = session.run(query)\n",
    "        \n",
    "    result_df = pd.DataFrame(result.values() , columns=results_columns)\n",
    "    \n",
    "    return result_df"
   ]
  },
  {
   "cell_type": "code",
   "execution_count": 10,
   "metadata": {
    "collapsed": true,
    "jupyter": {
     "outputs_hidden": true
    }
   },
   "outputs": [
    {
     "data": {
      "text/html": [
       "<div>\n",
       "<style scoped>\n",
       "    .dataframe tbody tr th:only-of-type {\n",
       "        vertical-align: middle;\n",
       "    }\n",
       "\n",
       "    .dataframe tbody tr th {\n",
       "        vertical-align: top;\n",
       "    }\n",
       "\n",
       "    .dataframe thead th {\n",
       "        text-align: right;\n",
       "    }\n",
       "</style>\n",
       "<table border=\"1\" class=\"dataframe\">\n",
       "  <thead>\n",
       "    <tr style=\"text-align: right;\">\n",
       "      <th></th>\n",
       "      <th>r.id</th>\n",
       "      <th>r.stars</th>\n",
       "      <th>b.id</th>\n",
       "    </tr>\n",
       "  </thead>\n",
       "  <tbody>\n",
       "    <tr>\n",
       "      <th>0</th>\n",
       "      <td>6BnQwlxRn7ZuWdzninM9sQ</td>\n",
       "      <td>3.0</td>\n",
       "      <td>cHdJXLlKNWixBXpDwEGb_A</td>\n",
       "    </tr>\n",
       "    <tr>\n",
       "      <th>1</th>\n",
       "      <td>u95ZUYzRcW80xiv9MzUqZA</td>\n",
       "      <td>5.0</td>\n",
       "      <td>Xg5qEQiB-7L6kGJ5F4K3bQ</td>\n",
       "    </tr>\n",
       "    <tr>\n",
       "      <th>2</th>\n",
       "      <td>s60cMfmdj2pWXQxUhYG6ZA</td>\n",
       "      <td>4.0</td>\n",
       "      <td>65GMvjjrsvyR9pxxAys7qg</td>\n",
       "    </tr>\n",
       "    <tr>\n",
       "      <th>3</th>\n",
       "      <td>OIejtNr6eQQBANKa-YwaZw</td>\n",
       "      <td>5.0</td>\n",
       "      <td>EneqsOFGCK4KXofNHsc5aQ</td>\n",
       "    </tr>\n",
       "    <tr>\n",
       "      <th>4</th>\n",
       "      <td>GW8BAKQPH9eoONr2MK-T1w</td>\n",
       "      <td>4.0</td>\n",
       "      <td>faPVqws-x-5k2CQKDNtHxw</td>\n",
       "    </tr>\n",
       "    <tr>\n",
       "      <th>5</th>\n",
       "      <td>smWh1nC1R66Tr-L5hNZg4w</td>\n",
       "      <td>5.0</td>\n",
       "      <td>qTmuW0C9XXuxWwumvn89sw</td>\n",
       "    </tr>\n",
       "    <tr>\n",
       "      <th>6</th>\n",
       "      <td>fcmj1_VQ8_epSxH-oHTqMw</td>\n",
       "      <td>4.0</td>\n",
       "      <td>yNPh5SO-7wr8HPpVCDPbXQ</td>\n",
       "    </tr>\n",
       "    <tr>\n",
       "      <th>7</th>\n",
       "      <td>RLDjVoKkWA1qRTZxbfoozA</td>\n",
       "      <td>2.0</td>\n",
       "      <td>HEmSK3apoP4xwVs0YkpNLQ</td>\n",
       "    </tr>\n",
       "    <tr>\n",
       "      <th>8</th>\n",
       "      <td>4mcL8k2bh3Wy6-gXv4Poag</td>\n",
       "      <td>3.0</td>\n",
       "      <td>AD5r187-LD836JW6ERa9Cg</td>\n",
       "    </tr>\n",
       "    <tr>\n",
       "      <th>9</th>\n",
       "      <td>9VqZYuARpPIVCrWmB8Xltw</td>\n",
       "      <td>5.0</td>\n",
       "      <td>zXvtouoaOsL0Bp0udugAjQ</td>\n",
       "    </tr>\n",
       "  </tbody>\n",
       "</table>\n",
       "</div>"
      ],
      "text/plain": [
       "                     r.id  r.stars                    b.id\n",
       "0  6BnQwlxRn7ZuWdzninM9sQ      3.0  cHdJXLlKNWixBXpDwEGb_A\n",
       "1  u95ZUYzRcW80xiv9MzUqZA      5.0  Xg5qEQiB-7L6kGJ5F4K3bQ\n",
       "2  s60cMfmdj2pWXQxUhYG6ZA      4.0  65GMvjjrsvyR9pxxAys7qg\n",
       "3  OIejtNr6eQQBANKa-YwaZw      5.0  EneqsOFGCK4KXofNHsc5aQ\n",
       "4  GW8BAKQPH9eoONr2MK-T1w      4.0  faPVqws-x-5k2CQKDNtHxw\n",
       "5  smWh1nC1R66Tr-L5hNZg4w      5.0  qTmuW0C9XXuxWwumvn89sw\n",
       "6  fcmj1_VQ8_epSxH-oHTqMw      4.0  yNPh5SO-7wr8HPpVCDPbXQ\n",
       "7  RLDjVoKkWA1qRTZxbfoozA      2.0  HEmSK3apoP4xwVs0YkpNLQ\n",
       "8  4mcL8k2bh3Wy6-gXv4Poag      3.0  AD5r187-LD836JW6ERa9Cg\n",
       "9  9VqZYuARpPIVCrWmB8Xltw      5.0  zXvtouoaOsL0Bp0udugAjQ"
      ]
     },
     "execution_count": 10,
     "metadata": {},
     "output_type": "execute_result"
    }
   ],
   "source": [
    "#testing cypher function\n",
    "review_dist=cypher(driver, f\"\\\n",
    "        MATCH (u:User)-[:WROTE]->(r:Review)-[:REVIEWS]->(b:Business)\\\n",
    "        WHERE u.id='{user_id}' RETURN r.id, r.stars, b.id LIMIT 10\" , ['r.id','r.stars','b.id'])\n",
    "review_dist.head(14)"
   ]
  },
  {
   "cell_type": "code",
   "execution_count": 39,
   "metadata": {},
   "outputs": [],
   "source": []
  },
  {
   "cell_type": "code",
   "execution_count": 45,
   "metadata": {},
   "outputs": [
    {
     "data": {
      "text/plain": [
       "49"
      ]
     },
     "execution_count": 45,
     "metadata": {},
     "output_type": "execute_result"
    }
   ],
   "source": []
  },
  {
   "cell_type": "code",
   "execution_count": 5,
   "metadata": {},
   "outputs": [],
   "source": [
    "def user_preference_dist(user_id ,biz_id):\n",
    "\n",
    "    review_dist=cypher(driver, f\"\\\n",
    "    MATCH (u:User)-[:WROTE]->(r:Review)-[:REVIEWS]->(b:Business)\\\n",
    "    WHERE u.id='{user_id}' RETURN r.id, r.stars, b.id\", ['r.id','r.stars','b.id'])\n",
    "\n",
    "    \n",
    "    biz_categories=cypher(driver, f\"\\\n",
    "    MATCH (b:Business)-[:IN_CATEGORY]->(c:Category)\\\n",
    "    WHERE b.id='{biz_id}' RETURN c.id\", ['c.id'])\n",
    "    \n",
    "    review_stars=review_dist['r.stars'].value_counts()\n",
    "    mean_review=review_dist['r.stars'].mean()\n",
    "    num_reviews=review_dist['r.stars'].shape[0]\n",
    "    cat_ids=list(biz_categories['c.id'])\n",
    "    \n",
    "    \n",
    "\n",
    "    biz_in_cat=[]\n",
    "    for cat in cat_ids:\n",
    "        temp=cypher(driver, f\"MATCH (b:Business)-[:IN_CATEGORY]->(c:Category)\\\n",
    "        WHERE c.id='{cat}' AND NOT b.id='{biz_id}' RETURN b.id\", ['b.id'])\n",
    "        biz_in_cat.append(temp)\n",
    "        \n",
    "    \n",
    "   \n",
    "    reviews_in_cat=[]\n",
    "    for i in range(len(biz_in_cat)):\n",
    "        \n",
    "        sim_biz = cypher(driver, f\"MATCH (u:User)-[:WROTE]->(r:Review)-[:REVIEWS]->(b:Business) WHERE u.id='{user_id}' and b.id IN {list(biz_in_cat[i]['b.id'])}\\\n",
    "        RETURN r.stars, b.id\", ['r.stars','b.id'])\n",
    "        #print(list(biz_in_cat[i]['b.id']))\n",
    "        reviews_in_cat.append(sim_biz)\n",
    "\n",
    "    numerator=np.empty(5)\n",
    "    for i in (1,2,3,4,5):\n",
    "        try:\n",
    "            numerator[i-1]=review_stars[i]\n",
    "        except:\n",
    "            numerator[i-1]=0\n",
    "\n",
    "    PRu=(numerator+1)/(num_reviews+5)\n",
    "\n",
    "    num_cat=len(biz_in_cat)\n",
    "    cats_by_stars=np.empty((num_cat,5))\n",
    "\n",
    "    for i in range(num_cat):\n",
    "        cat_stars=reviews_in_cat[i]['r.stars'].value_counts()\n",
    "        for j in (1,2,3,4,5):\n",
    "            try:\n",
    "                cats_by_stars[i][j-1]=cat_stars[j]\n",
    "            except:\n",
    "                cats_by_stars[i][j-1]=0\n",
    "\n",
    "    PRaj=( (cats_by_stars+1) / (numerator+num_cat) ).prod(axis=0)\n",
    "\n",
    "    user_prefs_un_normalized=PRu*PRaj\n",
    "\n",
    "    user_prefs=user_prefs_un_normalized/sum(user_prefs_un_normalized)\n",
    "    \n",
    "    return user_prefs"
   ]
  },
  {
   "cell_type": "code",
   "execution_count": 104,
   "metadata": {},
   "outputs": [
    {
     "data": {
      "text/plain": [
       "array([0.07703953, 0.14791589, 0.15339426, 0.16101261, 0.46063772])"
      ]
     },
     "execution_count": 104,
     "metadata": {},
     "output_type": "execute_result"
    }
   ],
   "source": [
    "user_preference_dist(user_id ,biz_id)"
   ]
  },
  {
   "cell_type": "code",
   "execution_count": 6,
   "metadata": {},
   "outputs": [],
   "source": [
    "def biz_acceptance(user_id ,biz_id):\n",
    "    \n",
    "    review_dist=cypher(driver, f\"\\\n",
    "    MATCH (u:User)-[:WROTE]->(r:Review)-[:REVIEWS]->(b:Business)\\\n",
    "    WHERE b.id='{biz_id}' RETURN r.id, r.stars, u.id\", ['r.id','r.stars','u.id'])\n",
    "    \n",
    "    user_categories=cypher(driver, f\"\\\n",
    "    MATCH (u:User)-[]->(r:Reputation)\\\n",
    "    WHERE u.id='{user_id}' RETURN r.id\", ['r.id'])\n",
    "    \n",
    "    \n",
    "    review_stars=review_dist['r.stars'].value_counts()\n",
    "    mean_review=review_dist['r.stars'].mean()\n",
    "    num_reviews=review_dist['r.stars'].shape[0]\n",
    "    cat_ids=list(user_categories['r.id'])\n",
    "    \n",
    "    \n",
    "    \n",
    "    user_in_cat=[]\n",
    "    \n",
    "    for cat in cat_ids:\n",
    "        temp=cypher(driver, f\"MATCH (u:User)-[]->(r:Reputation)\\\n",
    "        WHERE r.id ='{cat}' AND NOT u.id='{user_id}'  RETURN u.id\",['u.id'])\n",
    "        user_in_cat.append(temp)\n",
    "        \n",
    "        \n",
    "    reviews_in_cat=[]\n",
    "    for i in range(len(user_in_cat)):\n",
    "        #replace this with some sort of join, merge, intersection whatever with reivew dist and biz in cat\n",
    "        sim_user = cypher(driver, f\"MATCH (u:User)-[:WROTE]->(r:Review)-[:REVIEWS]->(b:Business) WHERE b.id='{biz_id}' and u.id IN {list(user_in_cat[i]['u.id'])}\\\n",
    "        RETURN r.stars, u.id\", ['r.stars','u.id'])\n",
    "        reviews_in_cat.append(sim_user)\n",
    "\n",
    "    numerator=np.empty(5)\n",
    "    for i in (1,2,3,4,5):\n",
    "        try:\n",
    "            numerator[i-1]=review_stars[i]\n",
    "        except:\n",
    "            numerator[i-1]=0\n",
    "\n",
    "    PRu=(numerator+1)/(num_reviews+5)\n",
    "\n",
    "    num_cat=len(user_in_cat)\n",
    "    cats_by_stars=np.empty((num_cat,5))\n",
    "\n",
    "    for i in range(num_cat):\n",
    "        cat_stars=reviews_in_cat[i]['r.stars'].value_counts()\n",
    "        for j in (1,2,3,4,5):\n",
    "            try:\n",
    "                cats_by_stars[i][j-1]=cat_stars[j]\n",
    "            except:\n",
    "                cats_by_stars[i][j-1]=0\n",
    "\n",
    "    PRaj=( (cats_by_stars+1) / (numerator+num_cat) ).prod(axis=0)\n",
    "\n",
    "    biz_prefs_un_normalized=PRu*PRaj\n",
    "\n",
    "    biz_prefs=biz_prefs_un_normalized/sum(biz_prefs_un_normalized)\n",
    "    \n",
    "    return biz_prefs"
   ]
  },
  {
   "cell_type": "code",
   "execution_count": 97,
   "metadata": {},
   "outputs": [
    {
     "data": {
      "text/plain": [
       "array([0.02246682, 0.0780098 , 0.10234522, 0.3173092 , 0.47986895])"
      ]
     },
     "execution_count": 97,
     "metadata": {},
     "output_type": "execute_result"
    }
   ],
   "source": [
    "biz_acceptance(user_id ,biz_id)"
   ]
  },
  {
   "cell_type": "code",
   "execution_count": 6,
   "metadata": {},
   "outputs": [],
   "source": [
    "def expected_rating(rating_dist):\n",
    "    runsum=0\n",
    "    for i in [1,2,3,4,5]:\n",
    "        runsum+=rating_dist[i-1]*i\n",
    "    return runsum"
   ]
  },
  {
   "cell_type": "code",
   "execution_count": 81,
   "metadata": {},
   "outputs": [],
   "source": [
    "user = user_preference_state('YQwAvXUkeUpBat32FU_4eQ', '_CEo5qKtrYIOH6BTxnQWHQ','PA')"
   ]
  },
  {
   "cell_type": "code",
   "execution_count": 82,
   "metadata": {},
   "outputs": [],
   "source": [
    "biz = biz_preference_state('YQwAvXUkeUpBat32FU_4eQ', '_CEo5qKtrYIOH6BTxnQWHQ','PA')"
   ]
  },
  {
   "cell_type": "code",
   "execution_count": 83,
   "metadata": {},
   "outputs": [
    {
     "data": {
      "text/plain": [
       "(array([0.00014861, 0.01494001, 0.80208579, 0.16788557, 0.01494001]),\n",
       " array([0.13100221, 0.04314627, 0.05265675, 0.13364174, 0.63955303]))"
      ]
     },
     "execution_count": 83,
     "metadata": {},
     "output_type": "execute_result"
    }
   ],
   "source": [
    "user,biz"
   ]
  },
  {
   "cell_type": "code",
   "execution_count": 84,
   "metadata": {},
   "outputs": [
    {
     "data": {
      "text/plain": [
       "3.1825283562770643"
      ]
     },
     "execution_count": 84,
     "metadata": {},
     "output_type": "execute_result"
    }
   ],
   "source": [
    "expected_rating(user)"
   ]
  },
  {
   "cell_type": "code",
   "execution_count": 85,
   "metadata": {},
   "outputs": [
    {
     "data": {
      "text/plain": [
       "4.107597113477149"
      ]
     },
     "execution_count": 85,
     "metadata": {},
     "output_type": "execute_result"
    }
   ],
   "source": [
    "expected_rating(biz)"
   ]
  },
  {
   "cell_type": "code",
   "execution_count": 86,
   "metadata": {},
   "outputs": [
    {
     "data": {
      "text/plain": [
       "3.5456325999488554"
      ]
     },
     "execution_count": 86,
     "metadata": {},
     "output_type": "execute_result"
    }
   ],
   "source": [
    "expected_rating((biz*user)/sum((biz*user)))"
   ]
  },
  {
   "cell_type": "code",
   "execution_count": 80,
   "metadata": {},
   "outputs": [],
   "source": [
    "def biz_preference_state(user_id ,biz_id,state):\n",
    "    \n",
    "    review_dist=cypher(driver, f\"\\\n",
    "    MATCH (s:State)<-[:REVIEWS_IN]-(u:User)-[:WROTE]->(r:Review)-[:REVIEWS]->(b:Business)\\\n",
    "    WHERE b.id='{biz_id}' AND s.name='{state}' RETURN r.id, r.stars, u.id\", ['r.id','r.stars','u.id'])\n",
    "    \n",
    "    user_categories=cypher(driver, f\"\\\n",
    "    MATCH (u:User)-[]->(r:Reputation)\\\n",
    "    WHERE u.id='{user_id}' RETURN r.id\", ['r.id'])\n",
    "    \n",
    "    \n",
    "    review_stars=review_dist['r.stars'].value_counts()\n",
    "    mean_review=review_dist['r.stars'].mean()\n",
    "    num_reviews=review_dist['r.stars'].shape[0]\n",
    "    cat_ids=list(user_categories['r.id'])\n",
    "    \n",
    "    \n",
    "    \n",
    "    user_in_cat=[]\n",
    "    \n",
    "    for cat in cat_ids:\n",
    "        temp=cypher(driver, f\"MATCH (s:State)<-[:REVIEWS_IN]-(u:User)-[]->(r:Reputation)\\\n",
    "        WHERE r.id ='{cat}' AND NOT u.id='{user_id}' AND s.name='{state}' RETURN u.id\",['u.id'])\n",
    "        user_in_cat.append(temp)\n",
    "        \n",
    "        \n",
    "    reviews_in_cat=[]\n",
    "    for i in range(len(user_in_cat)):\n",
    "        #replace this with some sort of join, merge, intersection whatever with reivew dist and biz in cat\n",
    "        sim_user = cypher(driver, f\"MATCH (u:User)-[:WROTE]->(r:Review)-[:REVIEWS]->(b:Business) WHERE b.id='{biz_id}' and u.id IN {list(user_in_cat[i]['u.id'])}\\\n",
    "        RETURN r.stars, u.id\", ['r.stars','u.id'])\n",
    "        reviews_in_cat.append(sim_user)\n",
    "    \n",
    "    numerator=np.empty(5)\n",
    "    for i in (1,2,3,4,5):\n",
    "        try:\n",
    "            numerator[i-1]=review_stars[i]\n",
    "        except:\n",
    "            numerator[i-1]=0\n",
    "\n",
    "    PRu=(numerator+1)/(num_reviews+5)\n",
    "\n",
    "    num_cat=len(user_in_cat)\n",
    "    cats_by_stars=np.empty((num_cat,5))\n",
    "\n",
    "    for i in range(num_cat):\n",
    "        if len(reviews_in_cat[i])!=0:\n",
    "            cat_stars=reviews_in_cat[i]['r.stars'].value_counts()\n",
    "            for j in (1,2,3,4,5):\n",
    "                try:\n",
    "                    cats_by_stars[i][j-1]=cat_stars[j]\n",
    "                except:\n",
    "                    cats_by_stars[i][j-1]=0\n",
    "                    \n",
    "        else:\n",
    "            \n",
    "            for j in (1,2,3,4,5):\n",
    "                try:\n",
    "                    cats_by_stars[i][j-1]=review_stars[j]\n",
    "                except:\n",
    "                    cats_by_stars[i][j-1]=0\n",
    "\n",
    "    PRaj=( (cats_by_stars+1) / (numerator+num_cat) ).prod(axis=0)\n",
    "\n",
    "    biz_prefs_un_normalized=PRu*PRaj\n",
    "\n",
    "    biz_prefs=biz_prefs_un_normalized/sum(biz_prefs_un_normalized)\n",
    "    \n",
    "    return biz_prefs"
   ]
  },
  {
   "cell_type": "code",
   "execution_count": 75,
   "metadata": {},
   "outputs": [],
   "source": [
    "def user_preference_state(user_id ,biz_id,state):\n",
    "\n",
    "    review_dist=cypher(driver, f\"\\\n",
    "    MATCH (u:User)-[:WROTE]->(r:Review)-[:REVIEWS]->(b:Business)-[:IN_CITY]->(:City)-[:IN_STATE]->(s:State)\\\n",
    "    WHERE u.id='{user_id}'  AND s.name='{state}' RETURN r.id, r.stars, b.id\", ['r.id','r.stars','b.id'])\n",
    "\n",
    "    \n",
    "    biz_categories=cypher(driver, f\"\\\n",
    "    MATCH (b:Business)-[:IN_CATEGORY]->(c:Category) \\\n",
    "    WHERE b.id='{biz_id}' RETURN c.id\", ['c.id'])\n",
    "    \n",
    "    review_stars=review_dist['r.stars'].value_counts()\n",
    "    \n",
    "    mean_review=review_dist['r.stars'].mean()\n",
    "    num_reviews=review_dist['r.stars'].shape[0]\n",
    "    cat_ids=list(biz_categories['c.id'])\n",
    "    \n",
    "    \n",
    "\n",
    "    biz_in_cat=[]\n",
    "    for cat in cat_ids:\n",
    "        \n",
    "        temp=cypher(driver, f\"\\\n",
    "        MATCH (s:State)<-[:IN_STATE]-(:City)<-[:IN_CITY]-(b:Business)-[:IN_CATEGORY]->(c:Category) \\\n",
    "        WHERE c.id='{cat}' AND NOT b.id='{biz_id}' AND s.name='{state}' RETURN b.id\", ['b.id'])\n",
    "        biz_in_cat.append(temp)\n",
    "        \n",
    "    reviews_in_cat=[]\n",
    "    for i in range(len(biz_in_cat)):\n",
    "        \n",
    "        sim_biz = cypher(driver, f\"MATCH (u:User)-[:WROTE]->(r:Review)-[:REVIEWS]->(b:Business) WHERE u.id='{user_id}' and b.id IN {list(biz_in_cat[i]['b.id'])}\\\n",
    "        RETURN r.stars, b.id\", ['r.stars','b.id'])\n",
    "        \n",
    "        reviews_in_cat.append(sim_biz)\n",
    "        \n",
    "    \n",
    "    numerator=np.empty(5)\n",
    "    for i in (1,2,3,4,5):\n",
    "        try:\n",
    "            numerator[i-1]=review_stars[i]\n",
    "        except:\n",
    "            numerator[i-1]=0\n",
    "\n",
    "    PRu=(numerator+1)/(num_reviews+5)\n",
    "\n",
    "    num_cat=len(biz_in_cat)\n",
    "    cats_by_stars=np.empty((num_cat,5))\n",
    "\n",
    "    for i in range(num_cat):\n",
    "        if len(reviews_in_cat[i])!=0:\n",
    "            cat_stars=reviews_in_cat[i]['r.stars'].value_counts()\n",
    "            for j in (1,2,3,4,5):\n",
    "                try:\n",
    "                    cats_by_stars[i][j-1]=cat_stars[j]\n",
    "                except:\n",
    "                    cats_by_stars[i][j-1]=0\n",
    "        else:\n",
    "            for j in (1,2,3,4,5):\n",
    "                try:\n",
    "                    cats_by_stars[i][j-1]=review_stars[j]\n",
    "                except:\n",
    "                    cats_by_stars[i][j-1]=0\n",
    "            \n",
    "    PRaj=( (cats_by_stars+1) / (numerator+num_cat) ).prod(axis=0)\n",
    "\n",
    "    user_prefs_un_normalized=PRu*PRaj\n",
    "\n",
    "    user_prefs=user_prefs_un_normalized/sum(user_prefs_un_normalized)\n",
    "    \n",
    "    return user_prefs"
   ]
  },
  {
   "cell_type": "code",
   "execution_count": null,
   "metadata": {},
   "outputs": [],
   "source": []
  }
 ],
 "metadata": {
  "kernelspec": {
   "display_name": "conda_python3",
   "language": "python",
   "name": "conda_python3"
  },
  "language_info": {
   "codemirror_mode": {
    "name": "ipython",
    "version": 3
   },
   "file_extension": ".py",
   "mimetype": "text/x-python",
   "name": "python",
   "nbconvert_exporter": "python",
   "pygments_lexer": "ipython3",
   "version": "3.6.5"
  }
 },
 "nbformat": 4,
 "nbformat_minor": 4
}
